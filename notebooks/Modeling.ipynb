{
 "cells": [
  {
   "cell_type": "code",
   "execution_count": 3,
   "metadata": {},
   "outputs": [],
   "source": [
    "import pandas as pd, numpy as np, matplotlib.pyplot as plt, seaborn as sns, datetime as dt,math, re\n",
    "import sqlalchemy as sql\n",
    "from sklearn.linear_model import LinearRegression\n",
    "from sklearn.model_selection import train_test_split\n",
    "from sklearn.preprocessing import StandardScaler"
   ]
  },
  {
   "cell_type": "code",
   "execution_count": 4,
   "metadata": {},
   "outputs": [],
   "source": [
    "engine = sql.create_engine(\"sqlite:///../data/interim/market.db\")\n",
    "conn = engine.connect()"
   ]
  },
  {
   "cell_type": "code",
   "execution_count": 6,
   "metadata": {},
   "outputs": [],
   "source": [
    "df_results = pd.read_sql(\"SELECT * FROM results\", con=conn, parse_dates=\"date\")\n",
    "conn.close()"
   ]
  },
  {
   "cell_type": "code",
   "execution_count": 7,
   "metadata": {},
   "outputs": [
    {
     "data": {
      "text/html": [
       "<div>\n",
       "<style scoped>\n",
       "    .dataframe tbody tr th:only-of-type {\n",
       "        vertical-align: middle;\n",
       "    }\n",
       "\n",
       "    .dataframe tbody tr th {\n",
       "        vertical-align: top;\n",
       "    }\n",
       "\n",
       "    .dataframe thead th {\n",
       "        text-align: right;\n",
       "    }\n",
       "</style>\n",
       "<table border=\"1\" class=\"dataframe\">\n",
       "  <thead>\n",
       "    <tr style=\"text-align: right;\">\n",
       "      <th></th>\n",
       "      <th>index</th>\n",
       "      <th>home_abbv</th>\n",
       "      <th>away_abbv</th>\n",
       "      <th>efg_pct_home</th>\n",
       "      <th>orb_pct_home</th>\n",
       "      <th>tov_pct_home</th>\n",
       "      <th>fta_per_fga_pct_home</th>\n",
       "      <th>efg_pct_away</th>\n",
       "      <th>orb_pct_away</th>\n",
       "      <th>tov_pct_away</th>\n",
       "      <th>fta_per_fga_pct_away</th>\n",
       "      <th>game_possessions</th>\n",
       "      <th>pts_home</th>\n",
       "      <th>pts_away</th>\n",
       "      <th>date</th>\n",
       "      <th>season</th>\n",
       "      <th>game_id</th>\n",
       "      <th>game_code</th>\n",
       "    </tr>\n",
       "  </thead>\n",
       "  <tbody>\n",
       "    <tr>\n",
       "      <th>0</th>\n",
       "      <td>0</td>\n",
       "      <td>TOR</td>\n",
       "      <td>DAL</td>\n",
       "      <td>0.544</td>\n",
       "      <td>0.261</td>\n",
       "      <td>0.107</td>\n",
       "      <td>0.220</td>\n",
       "      <td>0.478</td>\n",
       "      <td>0.208</td>\n",
       "      <td>0.120</td>\n",
       "      <td>0.261</td>\n",
       "      <td>100.721685</td>\n",
       "      <td>116</td>\n",
       "      <td>107</td>\n",
       "      <td>2018-10-26 19:30:00</td>\n",
       "      <td>18-19</td>\n",
       "      <td>1026833</td>\n",
       "      <td>201810260TOR</td>\n",
       "    </tr>\n",
       "    <tr>\n",
       "      <th>1</th>\n",
       "      <td>1</td>\n",
       "      <td>TOR</td>\n",
       "      <td>BOS</td>\n",
       "      <td>0.538</td>\n",
       "      <td>0.267</td>\n",
       "      <td>0.107</td>\n",
       "      <td>0.207</td>\n",
       "      <td>0.475</td>\n",
       "      <td>0.302</td>\n",
       "      <td>0.119</td>\n",
       "      <td>0.101</td>\n",
       "      <td>97.780277</td>\n",
       "      <td>113</td>\n",
       "      <td>101</td>\n",
       "      <td>2018-10-19 20:00:00</td>\n",
       "      <td>18-19</td>\n",
       "      <td>1026598</td>\n",
       "      <td>201810190TOR</td>\n",
       "    </tr>\n",
       "    <tr>\n",
       "      <th>2</th>\n",
       "      <td>2</td>\n",
       "      <td>TOR</td>\n",
       "      <td>CLE</td>\n",
       "      <td>0.565</td>\n",
       "      <td>0.186</td>\n",
       "      <td>0.082</td>\n",
       "      <td>0.217</td>\n",
       "      <td>0.441</td>\n",
       "      <td>0.286</td>\n",
       "      <td>0.135</td>\n",
       "      <td>0.459</td>\n",
       "      <td>100.326146</td>\n",
       "      <td>116</td>\n",
       "      <td>104</td>\n",
       "      <td>2018-10-17 19:30:00</td>\n",
       "      <td>18-19</td>\n",
       "      <td>1026528</td>\n",
       "      <td>201810170TOR</td>\n",
       "    </tr>\n",
       "    <tr>\n",
       "      <th>3</th>\n",
       "      <td>3</td>\n",
       "      <td>TOR</td>\n",
       "      <td>CHO</td>\n",
       "      <td>0.661</td>\n",
       "      <td>0.156</td>\n",
       "      <td>0.122</td>\n",
       "      <td>0.161</td>\n",
       "      <td>0.469</td>\n",
       "      <td>0.255</td>\n",
       "      <td>0.103</td>\n",
       "      <td>0.186</td>\n",
       "      <td>100.180849</td>\n",
       "      <td>127</td>\n",
       "      <td>106</td>\n",
       "      <td>2018-10-22 19:30:00</td>\n",
       "      <td>18-19</td>\n",
       "      <td>1026698</td>\n",
       "      <td>201810220TOR</td>\n",
       "    </tr>\n",
       "    <tr>\n",
       "      <th>4</th>\n",
       "      <td>4</td>\n",
       "      <td>TOR</td>\n",
       "      <td>MIN</td>\n",
       "      <td>0.579</td>\n",
       "      <td>0.282</td>\n",
       "      <td>0.145</td>\n",
       "      <td>0.135</td>\n",
       "      <td>0.495</td>\n",
       "      <td>0.327</td>\n",
       "      <td>0.127</td>\n",
       "      <td>0.167</td>\n",
       "      <td>97.328553</td>\n",
       "      <td>112</td>\n",
       "      <td>105</td>\n",
       "      <td>2018-10-24 19:30:00</td>\n",
       "      <td>18-19</td>\n",
       "      <td>1026763</td>\n",
       "      <td>201810240TOR</td>\n",
       "    </tr>\n",
       "  </tbody>\n",
       "</table>\n",
       "</div>"
      ],
      "text/plain": [
       "   index home_abbv away_abbv  efg_pct_home  orb_pct_home  tov_pct_home  \\\n",
       "0      0       TOR       DAL         0.544         0.261         0.107   \n",
       "1      1       TOR       BOS         0.538         0.267         0.107   \n",
       "2      2       TOR       CLE         0.565         0.186         0.082   \n",
       "3      3       TOR       CHO         0.661         0.156         0.122   \n",
       "4      4       TOR       MIN         0.579         0.282         0.145   \n",
       "\n",
       "   fta_per_fga_pct_home  efg_pct_away  orb_pct_away  tov_pct_away  \\\n",
       "0                 0.220         0.478         0.208         0.120   \n",
       "1                 0.207         0.475         0.302         0.119   \n",
       "2                 0.217         0.441         0.286         0.135   \n",
       "3                 0.161         0.469         0.255         0.103   \n",
       "4                 0.135         0.495         0.327         0.127   \n",
       "\n",
       "   fta_per_fga_pct_away  game_possessions  pts_home  pts_away  \\\n",
       "0                 0.261        100.721685       116       107   \n",
       "1                 0.101         97.780277       113       101   \n",
       "2                 0.459        100.326146       116       104   \n",
       "3                 0.186        100.180849       127       106   \n",
       "4                 0.167         97.328553       112       105   \n",
       "\n",
       "                 date season  game_id     game_code  \n",
       "0 2018-10-26 19:30:00  18-19  1026833  201810260TOR  \n",
       "1 2018-10-19 20:00:00  18-19  1026598  201810190TOR  \n",
       "2 2018-10-17 19:30:00  18-19  1026528  201810170TOR  \n",
       "3 2018-10-22 19:30:00  18-19  1026698  201810220TOR  \n",
       "4 2018-10-24 19:30:00  18-19  1026763  201810240TOR  "
      ]
     },
     "execution_count": 7,
     "metadata": {},
     "output_type": "execute_result"
    }
   ],
   "source": [
    "df_results.head()"
   ]
  },
  {
   "cell_type": "code",
   "execution_count": 8,
   "metadata": {},
   "outputs": [],
   "source": [
    "df_results = df_results.drop(\"index\", axis=1)"
   ]
  },
  {
   "cell_type": "code",
   "execution_count": 9,
   "metadata": {},
   "outputs": [],
   "source": [
    "home = df_results.loc[:, [\"home_abbv\", \"efg_pct_home\", \"orb_pct_home\", \"tov_pct_home\", \"fta_per_fga_pct_home\", \"game_possessions\", \"pts_home\"]]\n",
    "away = df_results.loc[:, [\"away_abbv\",\"efg_pct_away\", \"orb_pct_away\", \"tov_pct_away\", \"fta_per_fga_pct_away\", \"game_possessions\", \"pts_away\"]]\n",
    "home= home.rename(columns={\"home_abbv\": \"abbv\", \"efg_pct_home\": \"efg_pct\", \"orb_pct_home\": \"orb_pct\", \"tov_pct_home\": \"tov_pct\", \"fta_per_fga_pct_home\": \"fta_per_fga_pct\", \"pts_home\": \"pts\"})\n",
    "away= away.rename(columns={\"away_abbv\": \"abbv\", \"efg_pct_away\": \"efg_pct\", \"orb_pct_away\": \"orb_pct\", \"tov_pct_away\": \"tov_pct\", \"fta_per_fga_pct_away\": \"fta_per_fga_pct\", \"pts_away\": \"pts\"})"
   ]
  },
  {
   "cell_type": "code",
   "execution_count": 10,
   "metadata": {},
   "outputs": [],
   "source": [
    "model_df = pd.concat([home, away], axis=0).sort_index().reset_index(drop=True)"
   ]
  },
  {
   "cell_type": "code",
   "execution_count": 12,
   "metadata": {},
   "outputs": [
    {
     "data": {
      "text/html": [
       "<div>\n",
       "<style scoped>\n",
       "    .dataframe tbody tr th:only-of-type {\n",
       "        vertical-align: middle;\n",
       "    }\n",
       "\n",
       "    .dataframe tbody tr th {\n",
       "        vertical-align: top;\n",
       "    }\n",
       "\n",
       "    .dataframe thead th {\n",
       "        text-align: right;\n",
       "    }\n",
       "</style>\n",
       "<table border=\"1\" class=\"dataframe\">\n",
       "  <thead>\n",
       "    <tr style=\"text-align: right;\">\n",
       "      <th></th>\n",
       "      <th>efg_pct</th>\n",
       "      <th>orb_pct</th>\n",
       "      <th>tov_pct</th>\n",
       "      <th>fta_per_fga_pct</th>\n",
       "      <th>game_possessions</th>\n",
       "      <th>pts</th>\n",
       "    </tr>\n",
       "  </thead>\n",
       "  <tbody>\n",
       "    <tr>\n",
       "      <th>count</th>\n",
       "      <td>9876.000000</td>\n",
       "      <td>9876.000000</td>\n",
       "      <td>9876.000000</td>\n",
       "      <td>9876.000000</td>\n",
       "      <td>9876.000000</td>\n",
       "      <td>9876.000000</td>\n",
       "    </tr>\n",
       "    <tr>\n",
       "      <th>mean</th>\n",
       "      <td>0.528564</td>\n",
       "      <td>0.222763</td>\n",
       "      <td>0.121325</td>\n",
       "      <td>0.258620</td>\n",
       "      <td>99.055774</td>\n",
       "      <td>110.105610</td>\n",
       "    </tr>\n",
       "    <tr>\n",
       "      <th>std</th>\n",
       "      <td>0.065182</td>\n",
       "      <td>0.070169</td>\n",
       "      <td>0.033795</td>\n",
       "      <td>0.090701</td>\n",
       "      <td>5.708664</td>\n",
       "      <td>12.644061</td>\n",
       "    </tr>\n",
       "    <tr>\n",
       "      <th>min</th>\n",
       "      <td>0.301000</td>\n",
       "      <td>0.000000</td>\n",
       "      <td>0.010000</td>\n",
       "      <td>0.012000</td>\n",
       "      <td>83.425655</td>\n",
       "      <td>68.000000</td>\n",
       "    </tr>\n",
       "    <tr>\n",
       "      <th>25%</th>\n",
       "      <td>0.483000</td>\n",
       "      <td>0.174000</td>\n",
       "      <td>0.098000</td>\n",
       "      <td>0.194000</td>\n",
       "      <td>95.214559</td>\n",
       "      <td>101.000000</td>\n",
       "    </tr>\n",
       "    <tr>\n",
       "      <th>50%</th>\n",
       "      <td>0.527000</td>\n",
       "      <td>0.220000</td>\n",
       "      <td>0.120000</td>\n",
       "      <td>0.250000</td>\n",
       "      <td>98.668807</td>\n",
       "      <td>110.000000</td>\n",
       "    </tr>\n",
       "    <tr>\n",
       "      <th>75%</th>\n",
       "      <td>0.571000</td>\n",
       "      <td>0.270000</td>\n",
       "      <td>0.143000</td>\n",
       "      <td>0.313000</td>\n",
       "      <td>102.385189</td>\n",
       "      <td>119.000000</td>\n",
       "    </tr>\n",
       "    <tr>\n",
       "      <th>max</th>\n",
       "      <td>0.779000</td>\n",
       "      <td>0.471000</td>\n",
       "      <td>0.278000</td>\n",
       "      <td>0.790000</td>\n",
       "      <td>142.546549</td>\n",
       "      <td>168.000000</td>\n",
       "    </tr>\n",
       "  </tbody>\n",
       "</table>\n",
       "</div>"
      ],
      "text/plain": [
       "           efg_pct      orb_pct      tov_pct  fta_per_fga_pct  \\\n",
       "count  9876.000000  9876.000000  9876.000000      9876.000000   \n",
       "mean      0.528564     0.222763     0.121325         0.258620   \n",
       "std       0.065182     0.070169     0.033795         0.090701   \n",
       "min       0.301000     0.000000     0.010000         0.012000   \n",
       "25%       0.483000     0.174000     0.098000         0.194000   \n",
       "50%       0.527000     0.220000     0.120000         0.250000   \n",
       "75%       0.571000     0.270000     0.143000         0.313000   \n",
       "max       0.779000     0.471000     0.278000         0.790000   \n",
       "\n",
       "       game_possessions          pts  \n",
       "count       9876.000000  9876.000000  \n",
       "mean          99.055774   110.105610  \n",
       "std            5.708664    12.644061  \n",
       "min           83.425655    68.000000  \n",
       "25%           95.214559   101.000000  \n",
       "50%           98.668807   110.000000  \n",
       "75%          102.385189   119.000000  \n",
       "max          142.546549   168.000000  "
      ]
     },
     "execution_count": 12,
     "metadata": {},
     "output_type": "execute_result"
    }
   ],
   "source": [
    "model_df.describe()"
   ]
  },
  {
   "cell_type": "code",
   "execution_count": null,
   "metadata": {},
   "outputs": [],
   "source": []
  },
  {
   "cell_type": "code",
   "execution_count": 16,
   "metadata": {},
   "outputs": [
    {
     "data": {
      "image/png": "[encoded data removed]",
      "text/plain": [
       "<Figure size 1800x576 with 4 Axes>"
      ]
     },
     "metadata": {
      "needs_background": "light"
     },
     "output_type": "display_data"
    }
   ],
   "source": [
    "fig, axes = plt.subplots(2, 2, figsize=(25, 8))\n",
    "axes.resize(1, 4)\n",
    "for ax, col in zip(axes[0], [x for x in model_df.columns if x != \"pts\" and x!=\"abbv\"]):\n",
    "    model_df[col].plot(kind=\"hist\", bins=20, ax=ax)\n",
    "    ax.set_title(f\"{col} Distribution\")"
   ]
  },
  {
   "cell_type": "code",
   "execution_count": 19,
   "metadata": {},
   "outputs": [],
   "source": [
    "X = model_df.iloc[:, 1:-2].values\n",
    "Y = model_df.iloc[:, -1:].values"
   ]
  },
  {
   "cell_type": "code",
   "execution_count": 21,
   "metadata": {},
   "outputs": [
    {
     "data": {
      "text/plain": [
       "(9876, 4)"
      ]
     },
     "execution_count": 21,
     "metadata": {},
     "output_type": "execute_result"
    }
   ],
   "source": [
    "X.shape"
   ]
  },
  {
   "cell_type": "code",
   "execution_count": 22,
   "metadata": {},
   "outputs": [],
   "source": [
    "X_train, X_test, y_train, y_test = train_test_split(X, Y, random_state=11)"
   ]
  },
  {
   "cell_type": "code",
   "execution_count": 23,
   "metadata": {},
   "outputs": [],
   "source": [
    "model_1 = LinearRegression(normalize=True)"
   ]
  },
  {
   "cell_type": "code",
   "execution_count": 24,
   "metadata": {},
   "outputs": [
    {
     "data": {
      "text/plain": [
       "LinearRegression(copy_X=True, fit_intercept=True, n_jobs=None, normalize=True)"
      ]
     },
     "execution_count": 24,
     "metadata": {},
     "output_type": "execute_result"
    }
   ],
   "source": [
    "model_1.fit(X_train, y_train)"
   ]
  },
  {
   "cell_type": "code",
   "execution_count": 25,
   "metadata": {},
   "outputs": [
    {
     "data": {
      "text/plain": [
       "0.7216376814989343"
      ]
     },
     "execution_count": 25,
     "metadata": {},
     "output_type": "execute_result"
    }
   ],
   "source": [
    "model_1.score(X_test, y_test)"
   ]
  },
  {
   "cell_type": "code",
   "execution_count": 26,
   "metadata": {},
   "outputs": [],
   "source": [
    "score_predictions_series = model_1.predict(X)\n",
    "predictions = pd.DataFrame(zip(Y, score_predictions_series), columns=[\"Score\", \"y_hat\"], dtype=np.float64)\n",
    "predictions[\"Squared_Error\"] = ((predictions[\"Score\"] - predictions[\"y_hat\"])**2)**.5"
   ]
  },
  {
   "cell_type": "code",
   "execution_count": 27,
   "metadata": {},
   "outputs": [
    {
     "data": {
      "text/plain": [
       "count    9876.000000\n",
       "mean        5.122668\n",
       "std         4.198858\n",
       "min         0.001507\n",
       "25%         1.960943\n",
       "50%         4.196963\n",
       "75%         7.188837\n",
       "max        48.188311\n",
       "Name: Squared_Error, dtype: float64"
      ]
     },
     "execution_count": 27,
     "metadata": {},
     "output_type": "execute_result"
    }
   ],
   "source": [
    "predictions.Squared_Error.describe()"
   ]
  },
  {
   "cell_type": "code",
   "execution_count": 28,
   "metadata": {},
   "outputs": [
    {
     "data": {
      "text/plain": [
       "Text(0.5, 0.98, 'Model 1 Error Distibution')"
      ]
     },
     "execution_count": 28,
     "metadata": {},
     "output_type": "execute_result"
    },
    {
     "data": {
      "image/png": "[encoded data removed]",
      "text/plain": [
       "<Figure size 1440x576 with 1 Axes>"
      ]
     },
     "metadata": {
      "needs_background": "light"
     },
     "output_type": "display_data"
    }
   ],
   "source": [
    "predictions.plot(y=\"Squared_Error\", kind=\"box\", figsize=(20, 8), fontsize=20)\n",
    "plt.suptitle(\"Model 1 Error Distibution\", size=30)"
   ]
  },
  {
   "cell_type": "code",
   "execution_count": 30,
   "metadata": {},
   "outputs": [
    {
     "data": {
      "text/plain": [
       "Text(0.5, 0.98, 'Model 1 Prediction (ŷ) vs. Real Scores')"
      ]
     },
     "execution_count": 30,
     "metadata": {},
     "output_type": "execute_result"
    },
    {
     "data": {
      "image/png": "[encoded data removed]",
      "text/plain": [
       "<Figure size 1440x576 with 1 Axes>"
      ]
     },
     "metadata": {
      "needs_background": "light"
     },
     "output_type": "display_data"
    }
   ],
   "source": [
    "predictions.plot(y=[\"Score\", \"y_hat\"], kind=\"box\", figsize=(20, 8), fontsize=20)\n",
    "plt.suptitle(\"Model 1 Prediction (ŷ) vs. Real Scores\", size=30)"
   ]
  },
  {
   "cell_type": "code",
   "execution_count": 31,
   "metadata": {},
   "outputs": [
    {
     "data": {
      "text/html": [
       "<div>\n",
       "<style scoped>\n",
       "    .dataframe tbody tr th:only-of-type {\n",
       "        vertical-align: middle;\n",
       "    }\n",
       "\n",
       "    .dataframe tbody tr th {\n",
       "        vertical-align: top;\n",
       "    }\n",
       "\n",
       "    .dataframe thead th {\n",
       "        text-align: right;\n",
       "    }\n",
       "</style>\n",
       "<table border=\"1\" class=\"dataframe\">\n",
       "  <thead>\n",
       "    <tr style=\"text-align: right;\">\n",
       "      <th></th>\n",
       "      <th>Score</th>\n",
       "      <th>y_hat</th>\n",
       "      <th>Squared_Error</th>\n",
       "    </tr>\n",
       "  </thead>\n",
       "  <tbody>\n",
       "    <tr>\n",
       "      <th>1708</th>\n",
       "      <td>168.0</td>\n",
       "      <td>119.811689</td>\n",
       "      <td>48.188311</td>\n",
       "    </tr>\n",
       "    <tr>\n",
       "      <th>1709</th>\n",
       "      <td>161.0</td>\n",
       "      <td>113.399479</td>\n",
       "      <td>47.600521</td>\n",
       "    </tr>\n",
       "    <tr>\n",
       "      <th>670</th>\n",
       "      <td>148.0</td>\n",
       "      <td>114.715514</td>\n",
       "      <td>33.284486</td>\n",
       "    </tr>\n",
       "    <tr>\n",
       "      <th>1560</th>\n",
       "      <td>149.0</td>\n",
       "      <td>116.337071</td>\n",
       "      <td>32.662929</td>\n",
       "    </tr>\n",
       "    <tr>\n",
       "      <th>1294</th>\n",
       "      <td>148.0</td>\n",
       "      <td>115.545680</td>\n",
       "      <td>32.454320</td>\n",
       "    </tr>\n",
       "    <tr>\n",
       "      <th>4897</th>\n",
       "      <td>133.0</td>\n",
       "      <td>102.162763</td>\n",
       "      <td>30.837237</td>\n",
       "    </tr>\n",
       "    <tr>\n",
       "      <th>799</th>\n",
       "      <td>140.0</td>\n",
       "      <td>109.197334</td>\n",
       "      <td>30.802666</td>\n",
       "    </tr>\n",
       "    <tr>\n",
       "      <th>2371</th>\n",
       "      <td>154.0</td>\n",
       "      <td>124.381893</td>\n",
       "      <td>29.618107</td>\n",
       "    </tr>\n",
       "    <tr>\n",
       "      <th>671</th>\n",
       "      <td>147.0</td>\n",
       "      <td>117.438926</td>\n",
       "      <td>29.561074</td>\n",
       "    </tr>\n",
       "    <tr>\n",
       "      <th>4581</th>\n",
       "      <td>149.0</td>\n",
       "      <td>119.822092</td>\n",
       "      <td>29.177908</td>\n",
       "    </tr>\n",
       "    <tr>\n",
       "      <th>1541</th>\n",
       "      <td>138.0</td>\n",
       "      <td>109.032369</td>\n",
       "      <td>28.967631</td>\n",
       "    </tr>\n",
       "    <tr>\n",
       "      <th>4094</th>\n",
       "      <td>140.0</td>\n",
       "      <td>111.230850</td>\n",
       "      <td>28.769150</td>\n",
       "    </tr>\n",
       "    <tr>\n",
       "      <th>2763</th>\n",
       "      <td>141.0</td>\n",
       "      <td>112.378952</td>\n",
       "      <td>28.621048</td>\n",
       "    </tr>\n",
       "    <tr>\n",
       "      <th>1295</th>\n",
       "      <td>139.0</td>\n",
       "      <td>110.820993</td>\n",
       "      <td>28.179007</td>\n",
       "    </tr>\n",
       "    <tr>\n",
       "      <th>813</th>\n",
       "      <td>148.0</td>\n",
       "      <td>119.882812</td>\n",
       "      <td>28.117188</td>\n",
       "    </tr>\n",
       "    <tr>\n",
       "      <th>1561</th>\n",
       "      <td>146.0</td>\n",
       "      <td>118.001610</td>\n",
       "      <td>27.998390</td>\n",
       "    </tr>\n",
       "    <tr>\n",
       "      <th>1750</th>\n",
       "      <td>135.0</td>\n",
       "      <td>107.217611</td>\n",
       "      <td>27.782389</td>\n",
       "    </tr>\n",
       "    <tr>\n",
       "      <th>2762</th>\n",
       "      <td>133.0</td>\n",
       "      <td>105.505585</td>\n",
       "      <td>27.494415</td>\n",
       "    </tr>\n",
       "    <tr>\n",
       "      <th>8813</th>\n",
       "      <td>139.0</td>\n",
       "      <td>112.064711</td>\n",
       "      <td>26.935289</td>\n",
       "    </tr>\n",
       "    <tr>\n",
       "      <th>798</th>\n",
       "      <td>137.0</td>\n",
       "      <td>110.234957</td>\n",
       "      <td>26.765043</td>\n",
       "    </tr>\n",
       "  </tbody>\n",
       "</table>\n",
       "</div>"
      ],
      "text/plain": [
       "      Score       y_hat  Squared_Error\n",
       "1708  168.0  119.811689      48.188311\n",
       "1709  161.0  113.399479      47.600521\n",
       "670   148.0  114.715514      33.284486\n",
       "1560  149.0  116.337071      32.662929\n",
       "1294  148.0  115.545680      32.454320\n",
       "4897  133.0  102.162763      30.837237\n",
       "799   140.0  109.197334      30.802666\n",
       "2371  154.0  124.381893      29.618107\n",
       "671   147.0  117.438926      29.561074\n",
       "4581  149.0  119.822092      29.177908\n",
       "1541  138.0  109.032369      28.967631\n",
       "4094  140.0  111.230850      28.769150\n",
       "2763  141.0  112.378952      28.621048\n",
       "1295  139.0  110.820993      28.179007\n",
       "813   148.0  119.882812      28.117188\n",
       "1561  146.0  118.001610      27.998390\n",
       "1750  135.0  107.217611      27.782389\n",
       "2762  133.0  105.505585      27.494415\n",
       "8813  139.0  112.064711      26.935289\n",
       "798   137.0  110.234957      26.765043"
      ]
     },
     "execution_count": 31,
     "metadata": {},
     "output_type": "execute_result"
    }
   ],
   "source": [
    "predictions.sort_values(\"Squared_Error\", ascending=False).head(20)"
   ]
  },
  {
   "cell_type": "markdown",
   "metadata": {},
   "source": [
    "### Model 1 Evaluation\n",
    "1. Basing A Score Prediction on Percentages Alone Still Leaves Me with A Large Amount of Outliers, some as high as 50.\n",
    "2. Judging from the Distibution of Scores vs. My Prediction, the first model suffers the most from the highest scoring games. It can only adjust so far off the mean score to compensate for better shooting,\n",
    "3. The Model Needs a Time Component to Factor In Overtime Games and Games With More Possessions."
   ]
  },
  {
   "cell_type": "markdown",
   "metadata": {},
   "source": [
    "## Model 2: Four Factors + Possession Adjustments\n",
    "* There is no universally accepted parameter for possessions, but the above function is the way basketball reference tracks possessions (which can be confirmed by comparing the game_possessions column and their game pace statistic). \n",
    "    \n",
    "* All possessions should lead to a scoring attempt via a shot (fga or fta), a continuation of the possession (or a possession 'reset' via an offensive rebound) or a change in possession via a turnover or a defensive rebound.\n",
    "    \n",
    "* Having a possession estimate should also help our regression model by feeding in a time variable to better adjust its scoring projections.\n",
    "    * Since the first model only includes rates, the model assumes that all games take place over equivalent time, but for basketball the chance of a tie is more probable due to the frequency of scoring and all ties must be resolved through, in theory, unlimited overtimes until there is no longer one.\n",
    "        \n"
   ]
  },
  {
   "cell_type": "code",
   "execution_count": 36,
   "metadata": {},
   "outputs": [
    {
     "data": {
      "text/plain": [
       "<AxesSubplot:>"
      ]
     },
     "execution_count": 36,
     "metadata": {},
     "output_type": "execute_result"
    },
    {
     "data": {
      "image/png": "[encoded data removed]",
      "text/plain": [
       "<Figure size 432x288 with 1 Axes>"
      ]
     },
     "metadata": {
      "needs_background": "light"
     },
     "output_type": "display_data"
    }
   ],
   "source": [
    "model_df.game_possessions.hist(bins=20)"
   ]
  },
  {
   "cell_type": "code",
   "execution_count": 37,
   "metadata": {},
   "outputs": [],
   "source": [
    "X = model_df.iloc[:, 1:-1].values\n",
    "Y = model_df.iloc[:, -1:].values"
   ]
  },
  {
   "cell_type": "code",
   "execution_count": 40,
   "metadata": {},
   "outputs": [],
   "source": [
    "X_train, X_test, y_train, y_test = train_test_split(X, Y, random_state=17)"
   ]
  },
  {
   "cell_type": "code",
   "execution_count": 41,
   "metadata": {},
   "outputs": [],
   "source": [
    "model_2 = LinearRegression(normalize=True)"
   ]
  },
  {
   "cell_type": "code",
   "execution_count": 42,
   "metadata": {},
   "outputs": [
    {
     "data": {
      "text/plain": [
       "LinearRegression(copy_X=True, fit_intercept=True, n_jobs=None, normalize=True)"
      ]
     },
     "execution_count": 42,
     "metadata": {},
     "output_type": "execute_result"
    }
   ],
   "source": [
    "model_2.fit(X_train, y_train)"
   ]
  },
  {
   "cell_type": "code",
   "execution_count": 43,
   "metadata": {},
   "outputs": [
    {
     "data": {
      "text/plain": [
       "0.9576301591405864"
      ]
     },
     "execution_count": 43,
     "metadata": {},
     "output_type": "execute_result"
    }
   ],
   "source": [
    "model_2.score(X_test, y_test)"
   ]
  },
  {
   "cell_type": "code",
   "execution_count": 61,
   "metadata": {},
   "outputs": [
    {
     "data": {
      "text/plain": [
       "array([[ 155.13962834,   50.12019717, -140.11060727,   20.30763086,\n",
       "           1.09442528]])"
      ]
     },
     "execution_count": 61,
     "metadata": {},
     "output_type": "execute_result"
    }
   ],
   "source": [
    "model_2.coef_"
   ]
  },
  {
   "cell_type": "code",
   "execution_count": 44,
   "metadata": {},
   "outputs": [],
   "source": [
    "predictions_2 = model_2.predict(X)"
   ]
  },
  {
   "cell_type": "code",
   "execution_count": 45,
   "metadata": {},
   "outputs": [],
   "source": [
    "predictions_2_df = pd.DataFrame(zip(Y, predictions_2), columns=[\"Score\", \"y_hat\"], dtype=np.float64)"
   ]
  },
  {
   "cell_type": "code",
   "execution_count": 46,
   "metadata": {},
   "outputs": [],
   "source": [
    "predictions_2_df[\"Squared_Error\"] = ((predictions_2_df[\"Score\"] - predictions_2_df[\"y_hat\"])**2)**.5"
   ]
  },
  {
   "cell_type": "code",
   "execution_count": 47,
   "metadata": {},
   "outputs": [
    {
     "data": {
      "text/plain": [
       "count    9876.000000\n",
       "mean        2.074947\n",
       "std         1.598998\n",
       "min         0.000023\n",
       "25%         0.841411\n",
       "50%         1.719310\n",
       "75%         2.960148\n",
       "max        11.217551\n",
       "Name: Squared_Error, dtype: float64"
      ]
     },
     "execution_count": 47,
     "metadata": {},
     "output_type": "execute_result"
    }
   ],
   "source": [
    "predictions_2_df.Squared_Error.describe()"
   ]
  },
  {
   "cell_type": "code",
   "execution_count": 48,
   "metadata": {},
   "outputs": [
    {
     "data": {
      "text/plain": [
       "Text(0.5, 0.98, 'Model 2 Error Distibution')"
      ]
     },
     "execution_count": 48,
     "metadata": {},
     "output_type": "execute_result"
    },
    {
     "data": {
      "image/png": "[encoded data removed]",
      "text/plain": [
       "<Figure size 1440x576 with 1 Axes>"
      ]
     },
     "metadata": {
      "needs_background": "light"
     },
     "output_type": "display_data"
    }
   ],
   "source": [
    "predictions_2_df.plot(y=\"Squared_Error\", kind=\"box\", figsize=(20, 8), fontsize=20)\n",
    "plt.suptitle(\"Model 2 Error Distibution\", size=30)"
   ]
  },
  {
   "cell_type": "code",
   "execution_count": 49,
   "metadata": {},
   "outputs": [
    {
     "data": {
      "text/plain": [
       "Text(0.5, 0.98, 'Model 2 Prediction (ŷ) vs. Real Scores')"
      ]
     },
     "execution_count": 49,
     "metadata": {},
     "output_type": "execute_result"
    },
    {
     "data": {
      "image/png": "[encoded data removed]",
      "text/plain": [
       "<Figure size 1440x576 with 1 Axes>"
      ]
     },
     "metadata": {
      "needs_background": "light"
     },
     "output_type": "display_data"
    }
   ],
   "source": [
    "predictions_2_df.plot(y=[\"Score\", \"y_hat\"], kind=\"box\", figsize=(20, 8), fontsize=20)\n",
    "plt.suptitle(\"Model 2 Prediction (ŷ) vs. Real Scores\", size=30)"
   ]
  },
  {
   "cell_type": "code",
   "execution_count": 50,
   "metadata": {},
   "outputs": [
    {
     "data": {
      "text/plain": [
       "Text(0.5, 1.0, 'Comparison of the Distribution of the Squared Errors for Both Models')"
      ]
     },
     "execution_count": 50,
     "metadata": {},
     "output_type": "execute_result"
    },
    {
     "data": {
      "image/png": "[encoded data removed]",
      "text/plain": [
       "<Figure size 1440x864 with 1 Axes>"
      ]
     },
     "metadata": {
      "needs_background": "light"
     },
     "output_type": "display_data"
    }
   ],
   "source": [
    "fig, ax = plt.subplots(1, 1, figsize=(20, 12))\n",
    "predictions.Squared_Error.plot(kind=\"hist\", ax=ax, fontsize=20, bins=20)\n",
    "predictions_2_df.Squared_Error.plot(kind=\"hist\", ax=ax, bins=20)\n",
    "ax.legend([\"Four Factors\", \"Four Factors + Possession Data\"], fontsize=18)\n",
    "ax.set_title(\"Comparison of the Distribution of the Squared Errors for Both Models\", fontsize=25)"
   ]
  },
  {
   "cell_type": "code",
   "execution_count": 51,
   "metadata": {},
   "outputs": [
    {
     "data": {
      "text/plain": [
       "<AxesSubplot:title={'center':'Model 1'}, xlabel='Squared_Error', ylabel='Score'>"
      ]
     },
     "execution_count": 51,
     "metadata": {},
     "output_type": "execute_result"
    },
    {
     "data": {
      "image/png": "[encoded data removed]",
      "text/plain": [
       "<Figure size 2016x864 with 2 Axes>"
      ]
     },
     "metadata": {
      "needs_background": "light"
     },
     "output_type": "display_data"
    }
   ],
   "source": [
    "# Model 2's Residuals Show An Even Scatter and No Fanning Pattern; Model 1's Residuals Show A Fanning Pattern Indicating Worse Predictions for Higher Scores\n",
    "fig, ax = plt.subplots(1, 2, figsize=(28, 12))\n",
    "predictions_2_df.plot(kind=\"scatter\", x=\"Squared_Error\", y=\"Score\", color=\"orange\", ax=ax[0], title=\"Model 2\", fontsize=18)\n",
    "predictions.plot(kind=\"scatter\", x=\"Squared_Error\", y=\"Score\", ax=ax[1], title=\"Model 1\", fontsize=18)"
   ]
  },
  {
   "cell_type": "code",
   "execution_count": 52,
   "metadata": {},
   "outputs": [
    {
     "data": {
      "text/html": [
       "<div>\n",
       "<style scoped>\n",
       "    .dataframe tbody tr th:only-of-type {\n",
       "        vertical-align: middle;\n",
       "    }\n",
       "\n",
       "    .dataframe tbody tr th {\n",
       "        vertical-align: top;\n",
       "    }\n",
       "\n",
       "    .dataframe thead th {\n",
       "        text-align: right;\n",
       "    }\n",
       "</style>\n",
       "<table border=\"1\" class=\"dataframe\">\n",
       "  <thead>\n",
       "    <tr style=\"text-align: right;\">\n",
       "      <th></th>\n",
       "      <th>efg_pct</th>\n",
       "      <th>orb_pct</th>\n",
       "      <th>tov_pct</th>\n",
       "      <th>fta_per_fga_pct</th>\n",
       "      <th>game_possessions</th>\n",
       "      <th>pts</th>\n",
       "    </tr>\n",
       "  </thead>\n",
       "  <tbody>\n",
       "    <tr>\n",
       "      <th>efg_pct</th>\n",
       "      <td>1.000000</td>\n",
       "      <td>-0.059725</td>\n",
       "      <td>0.117875</td>\n",
       "      <td>-0.024585</td>\n",
       "      <td>0.018471</td>\n",
       "      <td>0.742736</td>\n",
       "    </tr>\n",
       "    <tr>\n",
       "      <th>orb_pct</th>\n",
       "      <td>-0.059725</td>\n",
       "      <td>1.000000</td>\n",
       "      <td>0.017100</td>\n",
       "      <td>0.003023</td>\n",
       "      <td>-0.122318</td>\n",
       "      <td>0.164237</td>\n",
       "    </tr>\n",
       "    <tr>\n",
       "      <th>tov_pct</th>\n",
       "      <td>0.117875</td>\n",
       "      <td>0.017100</td>\n",
       "      <td>1.000000</td>\n",
       "      <td>0.100628</td>\n",
       "      <td>0.126815</td>\n",
       "      <td>-0.198695</td>\n",
       "    </tr>\n",
       "    <tr>\n",
       "      <th>fta_per_fga_pct</th>\n",
       "      <td>-0.024585</td>\n",
       "      <td>0.003023</td>\n",
       "      <td>0.100628</td>\n",
       "      <td>1.000000</td>\n",
       "      <td>0.143431</td>\n",
       "      <td>0.160461</td>\n",
       "    </tr>\n",
       "    <tr>\n",
       "      <th>game_possessions</th>\n",
       "      <td>0.018471</td>\n",
       "      <td>-0.122318</td>\n",
       "      <td>0.126815</td>\n",
       "      <td>0.143431</td>\n",
       "      <td>1.000000</td>\n",
       "      <td>0.447469</td>\n",
       "    </tr>\n",
       "    <tr>\n",
       "      <th>pts</th>\n",
       "      <td>0.742736</td>\n",
       "      <td>0.164237</td>\n",
       "      <td>-0.198695</td>\n",
       "      <td>0.160461</td>\n",
       "      <td>0.447469</td>\n",
       "      <td>1.000000</td>\n",
       "    </tr>\n",
       "  </tbody>\n",
       "</table>\n",
       "</div>"
      ],
      "text/plain": [
       "                   efg_pct   orb_pct   tov_pct  fta_per_fga_pct  \\\n",
       "efg_pct           1.000000 -0.059725  0.117875        -0.024585   \n",
       "orb_pct          -0.059725  1.000000  0.017100         0.003023   \n",
       "tov_pct           0.117875  0.017100  1.000000         0.100628   \n",
       "fta_per_fga_pct  -0.024585  0.003023  0.100628         1.000000   \n",
       "game_possessions  0.018471 -0.122318  0.126815         0.143431   \n",
       "pts               0.742736  0.164237 -0.198695         0.160461   \n",
       "\n",
       "                  game_possessions       pts  \n",
       "efg_pct                   0.018471  0.742736  \n",
       "orb_pct                  -0.122318  0.164237  \n",
       "tov_pct                   0.126815 -0.198695  \n",
       "fta_per_fga_pct           0.143431  0.160461  \n",
       "game_possessions          1.000000  0.447469  \n",
       "pts                       0.447469  1.000000  "
      ]
     },
     "execution_count": 52,
     "metadata": {},
     "output_type": "execute_result"
    }
   ],
   "source": [
    "model_df.corr()"
   ]
  },
  {
   "cell_type": "code",
   "execution_count": 58,
   "metadata": {},
   "outputs": [
    {
     "data": {
      "text/plain": [
       "<AxesSubplot:ylabel='Frequency'>"
      ]
     },
     "execution_count": 58,
     "metadata": {},
     "output_type": "execute_result"
    },
    {
     "data": {
      "image/png": "[encoded data removed]",
      "text/plain": [
       "<Figure size 432x288 with 1 Axes>"
      ]
     },
     "metadata": {
      "needs_background": "light"
     },
     "output_type": "display_data"
    }
   ],
   "source": [
    "predictions_2_df.assign(Error = lambda x: x.Score - x[\"y_hat\"]).Error.plot(kind=\"hist\", bins=20)"
   ]
  },
  {
   "cell_type": "code",
   "execution_count": 60,
   "metadata": {},
   "outputs": [
    {
     "data": {
      "text/plain": [
       "<AxesSubplot:ylabel='Frequency'>"
      ]
     },
     "execution_count": 60,
     "metadata": {},
     "output_type": "execute_result"
    },
    {
     "data": {
      "image/png": "[encoded data removed]",
      "text/plain": [
       "<Figure size 432x288 with 1 Axes>"
      ]
     },
     "metadata": {
      "needs_background": "light"
     },
     "output_type": "display_data"
    }
   ],
   "source": [
    "predictions.assign(Error = lambda x: x.Score - x[\"y_hat\"]).Error.plot(kind=\"hist\", bins=20)"
   ]
  },
  {
   "cell_type": "code",
   "execution_count": 73,
   "metadata": {},
   "outputs": [],
   "source": [
    "engine = sql.create_engine(\"sqlite:///../data/interim/market.db\")\n",
    "conn = engine.connect()"
   ]
  },
  {
   "cell_type": "code",
   "execution_count": 74,
   "metadata": {},
   "outputs": [],
   "source": [
    "df_timeseries = pd.read_sql(\"SELECT * FROM timeseries\", con=conn, parse_dates=\"timestamp\")\n",
    "df_markets = pd.read_sql(\"SELECT team_abbv, book, moneyline, spread, spread_odds, total, over_odds, under_odds, game_id FROM market_summary\", con=conn)\n",
    "df_gamecodes =  pd.read_sql(\"SELECT * FROM results\", con=conn, parse_dates=\"date\")\n",
    "conn.close()"
   ]
  },
  {
   "cell_type": "code",
   "execution_count": 82,
   "metadata": {},
   "outputs": [
    {
     "data": {
      "text/html": [
       "<div>\n",
       "<style scoped>\n",
       "    .dataframe tbody tr th:only-of-type {\n",
       "        vertical-align: middle;\n",
       "    }\n",
       "\n",
       "    .dataframe tbody tr th {\n",
       "        vertical-align: top;\n",
       "    }\n",
       "\n",
       "    .dataframe thead th {\n",
       "        text-align: right;\n",
       "    }\n",
       "</style>\n",
       "<table border=\"1\" class=\"dataframe\">\n",
       "  <thead>\n",
       "    <tr style=\"text-align: right;\">\n",
       "      <th></th>\n",
       "      <th>team_abbv</th>\n",
       "      <th>book</th>\n",
       "      <th>moneyline</th>\n",
       "      <th>spread</th>\n",
       "      <th>spread_odds</th>\n",
       "      <th>total</th>\n",
       "      <th>over_odds</th>\n",
       "      <th>under_odds</th>\n",
       "      <th>game_id</th>\n",
       "    </tr>\n",
       "  </thead>\n",
       "  <tbody>\n",
       "    <tr>\n",
       "      <th>51752</th>\n",
       "      <td>CHR</td>\n",
       "      <td>Opening</td>\n",
       "      <td>333.0</td>\n",
       "      <td>9.5</td>\n",
       "      <td>-110.0</td>\n",
       "      <td>222.5</td>\n",
       "      <td>-110.0</td>\n",
       "      <td>-110.0</td>\n",
       "      <td>1026698</td>\n",
       "    </tr>\n",
       "    <tr>\n",
       "      <th>51754</th>\n",
       "      <td>TOR</td>\n",
       "      <td>Opening</td>\n",
       "      <td>-500.0</td>\n",
       "      <td>-9.5</td>\n",
       "      <td>-110.0</td>\n",
       "      <td>222.5</td>\n",
       "      <td>-110.0</td>\n",
       "      <td>-110.0</td>\n",
       "      <td>1026698</td>\n",
       "    </tr>\n",
       "    <tr>\n",
       "      <th>51756</th>\n",
       "      <td>CHR</td>\n",
       "      <td>BetOnline</td>\n",
       "      <td>350.0</td>\n",
       "      <td>8.5</td>\n",
       "      <td>-109.0</td>\n",
       "      <td>225.0</td>\n",
       "      <td>-105.0</td>\n",
       "      <td>-115.0</td>\n",
       "      <td>1026698</td>\n",
       "    </tr>\n",
       "    <tr>\n",
       "      <th>51758</th>\n",
       "      <td>TOR</td>\n",
       "      <td>BetOnline</td>\n",
       "      <td>-420.0</td>\n",
       "      <td>-8.5</td>\n",
       "      <td>-111.0</td>\n",
       "      <td>225.0</td>\n",
       "      <td>-105.0</td>\n",
       "      <td>-115.0</td>\n",
       "      <td>1026698</td>\n",
       "    </tr>\n",
       "    <tr>\n",
       "      <th>51759</th>\n",
       "      <td>CHR</td>\n",
       "      <td>Intertops</td>\n",
       "      <td>320.0</td>\n",
       "      <td>8.5</td>\n",
       "      <td>-110.0</td>\n",
       "      <td>225.0</td>\n",
       "      <td>-105.0</td>\n",
       "      <td>-115.0</td>\n",
       "      <td>1026698</td>\n",
       "    </tr>\n",
       "    <tr>\n",
       "      <th>51761</th>\n",
       "      <td>TOR</td>\n",
       "      <td>Intertops</td>\n",
       "      <td>-410.0</td>\n",
       "      <td>-8.5</td>\n",
       "      <td>-110.0</td>\n",
       "      <td>225.0</td>\n",
       "      <td>-105.0</td>\n",
       "      <td>-115.0</td>\n",
       "      <td>1026698</td>\n",
       "    </tr>\n",
       "    <tr>\n",
       "      <th>51762</th>\n",
       "      <td>CHR</td>\n",
       "      <td>SportsBetting</td>\n",
       "      <td>350.0</td>\n",
       "      <td>8.5</td>\n",
       "      <td>-109.0</td>\n",
       "      <td>225.0</td>\n",
       "      <td>-105.0</td>\n",
       "      <td>-115.0</td>\n",
       "      <td>1026698</td>\n",
       "    </tr>\n",
       "    <tr>\n",
       "      <th>51763</th>\n",
       "      <td>TOR</td>\n",
       "      <td>SportsBetting</td>\n",
       "      <td>-420.0</td>\n",
       "      <td>-8.5</td>\n",
       "      <td>-111.0</td>\n",
       "      <td>225.0</td>\n",
       "      <td>-105.0</td>\n",
       "      <td>-115.0</td>\n",
       "      <td>1026698</td>\n",
       "    </tr>\n",
       "    <tr>\n",
       "      <th>51764</th>\n",
       "      <td>CHR</td>\n",
       "      <td>BetNow</td>\n",
       "      <td>340.0</td>\n",
       "      <td>9.0</td>\n",
       "      <td>-110.0</td>\n",
       "      <td>224.5</td>\n",
       "      <td>-110.0</td>\n",
       "      <td>-110.0</td>\n",
       "      <td>1026698</td>\n",
       "    </tr>\n",
       "    <tr>\n",
       "      <th>51766</th>\n",
       "      <td>TOR</td>\n",
       "      <td>BetNow</td>\n",
       "      <td>-425.0</td>\n",
       "      <td>-9.0</td>\n",
       "      <td>-110.0</td>\n",
       "      <td>224.5</td>\n",
       "      <td>-110.0</td>\n",
       "      <td>-110.0</td>\n",
       "      <td>1026698</td>\n",
       "    </tr>\n",
       "    <tr>\n",
       "      <th>51767</th>\n",
       "      <td>CHR</td>\n",
       "      <td>MyBookie</td>\n",
       "      <td>335.0</td>\n",
       "      <td>8.5</td>\n",
       "      <td>-110.0</td>\n",
       "      <td>224.5</td>\n",
       "      <td>-110.0</td>\n",
       "      <td>-110.0</td>\n",
       "      <td>1026698</td>\n",
       "    </tr>\n",
       "    <tr>\n",
       "      <th>51771</th>\n",
       "      <td>TOR</td>\n",
       "      <td>MyBookie</td>\n",
       "      <td>-435.0</td>\n",
       "      <td>-8.5</td>\n",
       "      <td>-110.0</td>\n",
       "      <td>224.5</td>\n",
       "      <td>-110.0</td>\n",
       "      <td>-110.0</td>\n",
       "      <td>1026698</td>\n",
       "    </tr>\n",
       "    <tr>\n",
       "      <th>51774</th>\n",
       "      <td>CHR</td>\n",
       "      <td>GTBets</td>\n",
       "      <td>339.0</td>\n",
       "      <td>8.5</td>\n",
       "      <td>-103.0</td>\n",
       "      <td>224.5</td>\n",
       "      <td>-109.0</td>\n",
       "      <td>-110.0</td>\n",
       "      <td>1026698</td>\n",
       "    </tr>\n",
       "    <tr>\n",
       "      <th>51776</th>\n",
       "      <td>TOR</td>\n",
       "      <td>GTBets</td>\n",
       "      <td>-407.0</td>\n",
       "      <td>-8.5</td>\n",
       "      <td>-115.0</td>\n",
       "      <td>224.5</td>\n",
       "      <td>-109.0</td>\n",
       "      <td>-110.0</td>\n",
       "      <td>1026698</td>\n",
       "    </tr>\n",
       "    <tr>\n",
       "      <th>51778</th>\n",
       "      <td>CHR</td>\n",
       "      <td>SkyBook</td>\n",
       "      <td>348.0</td>\n",
       "      <td>8.5</td>\n",
       "      <td>-110.0</td>\n",
       "      <td>225.0</td>\n",
       "      <td>-110.0</td>\n",
       "      <td>-110.0</td>\n",
       "      <td>1026698</td>\n",
       "    </tr>\n",
       "    <tr>\n",
       "      <th>51782</th>\n",
       "      <td>TOR</td>\n",
       "      <td>SkyBook</td>\n",
       "      <td>-423.0</td>\n",
       "      <td>-8.5</td>\n",
       "      <td>-110.0</td>\n",
       "      <td>225.0</td>\n",
       "      <td>-110.0</td>\n",
       "      <td>-110.0</td>\n",
       "      <td>1026698</td>\n",
       "    </tr>\n",
       "  </tbody>\n",
       "</table>\n",
       "</div>"
      ],
      "text/plain": [
       "      team_abbv           book  moneyline  spread  spread_odds  total  \\\n",
       "51752       CHR        Opening      333.0     9.5       -110.0  222.5   \n",
       "51754       TOR        Opening     -500.0    -9.5       -110.0  222.5   \n",
       "51756       CHR      BetOnline      350.0     8.5       -109.0  225.0   \n",
       "51758       TOR      BetOnline     -420.0    -8.5       -111.0  225.0   \n",
       "51759       CHR      Intertops      320.0     8.5       -110.0  225.0   \n",
       "51761       TOR      Intertops     -410.0    -8.5       -110.0  225.0   \n",
       "51762       CHR  SportsBetting      350.0     8.5       -109.0  225.0   \n",
       "51763       TOR  SportsBetting     -420.0    -8.5       -111.0  225.0   \n",
       "51764       CHR         BetNow      340.0     9.0       -110.0  224.5   \n",
       "51766       TOR         BetNow     -425.0    -9.0       -110.0  224.5   \n",
       "51767       CHR       MyBookie      335.0     8.5       -110.0  224.5   \n",
       "51771       TOR       MyBookie     -435.0    -8.5       -110.0  224.5   \n",
       "51774       CHR         GTBets      339.0     8.5       -103.0  224.5   \n",
       "51776       TOR         GTBets     -407.0    -8.5       -115.0  224.5   \n",
       "51778       CHR        SkyBook      348.0     8.5       -110.0  225.0   \n",
       "51782       TOR        SkyBook     -423.0    -8.5       -110.0  225.0   \n",
       "\n",
       "       over_odds  under_odds  game_id  \n",
       "51752     -110.0      -110.0  1026698  \n",
       "51754     -110.0      -110.0  1026698  \n",
       "51756     -105.0      -115.0  1026698  \n",
       "51758     -105.0      -115.0  1026698  \n",
       "51759     -105.0      -115.0  1026698  \n",
       "51761     -105.0      -115.0  1026698  \n",
       "51762     -105.0      -115.0  1026698  \n",
       "51763     -105.0      -115.0  1026698  \n",
       "51764     -110.0      -110.0  1026698  \n",
       "51766     -110.0      -110.0  1026698  \n",
       "51767     -110.0      -110.0  1026698  \n",
       "51771     -110.0      -110.0  1026698  \n",
       "51774     -109.0      -110.0  1026698  \n",
       "51776     -109.0      -110.0  1026698  \n",
       "51778     -110.0      -110.0  1026698  \n",
       "51782     -110.0      -110.0  1026698  "
      ]
     },
     "execution_count": 82,
     "metadata": {},
     "output_type": "execute_result"
    }
   ],
   "source": [
    "df_markets[lambda x: x.game_id == \"1026698\"]"
   ]
  },
  {
   "cell_type": "code",
   "execution_count": 71,
   "metadata": {},
   "outputs": [
    {
     "data": {
      "text/html": [
       "<div>\n",
       "<style scoped>\n",
       "    .dataframe tbody tr th:only-of-type {\n",
       "        vertical-align: middle;\n",
       "    }\n",
       "\n",
       "    .dataframe tbody tr th {\n",
       "        vertical-align: top;\n",
       "    }\n",
       "\n",
       "    .dataframe thead th {\n",
       "        text-align: right;\n",
       "    }\n",
       "</style>\n",
       "<table border=\"1\" class=\"dataframe\">\n",
       "  <thead>\n",
       "    <tr style=\"text-align: right;\">\n",
       "      <th></th>\n",
       "      <th>team_abbv</th>\n",
       "      <th>book</th>\n",
       "      <th>moneyline</th>\n",
       "      <th>spread</th>\n",
       "      <th>spread_odds</th>\n",
       "      <th>total</th>\n",
       "      <th>over_odds</th>\n",
       "      <th>under_odds</th>\n",
       "      <th>game_id</th>\n",
       "    </tr>\n",
       "  </thead>\n",
       "  <tbody>\n",
       "    <tr>\n",
       "      <th>0</th>\n",
       "      <td>SAC</td>\n",
       "      <td>Opening</td>\n",
       "      <td>305.0</td>\n",
       "      <td>10.0</td>\n",
       "      <td>-110.0</td>\n",
       "      <td>220.0</td>\n",
       "      <td>-110.0</td>\n",
       "      <td>-110.0</td>\n",
       "      <td>1459841</td>\n",
       "    </tr>\n",
       "    <tr>\n",
       "      <th>1</th>\n",
       "      <td>UTA</td>\n",
       "      <td>Opening</td>\n",
       "      <td>-455.0</td>\n",
       "      <td>-10.0</td>\n",
       "      <td>-110.0</td>\n",
       "      <td>220.0</td>\n",
       "      <td>-110.0</td>\n",
       "      <td>-110.0</td>\n",
       "      <td>1459841</td>\n",
       "    </tr>\n",
       "    <tr>\n",
       "      <th>2</th>\n",
       "      <td>SAC</td>\n",
       "      <td>BOVADA</td>\n",
       "      <td>310.0</td>\n",
       "      <td>9.0</td>\n",
       "      <td>-110.0</td>\n",
       "      <td>223.0</td>\n",
       "      <td>-110.0</td>\n",
       "      <td>-110.0</td>\n",
       "      <td>1459841</td>\n",
       "    </tr>\n",
       "    <tr>\n",
       "      <th>3</th>\n",
       "      <td>UTA</td>\n",
       "      <td>BOVADA</td>\n",
       "      <td>-415.0</td>\n",
       "      <td>-9.0</td>\n",
       "      <td>-110.0</td>\n",
       "      <td>223.0</td>\n",
       "      <td>-110.0</td>\n",
       "      <td>-110.0</td>\n",
       "      <td>1459841</td>\n",
       "    </tr>\n",
       "    <tr>\n",
       "      <th>4</th>\n",
       "      <td>SAC</td>\n",
       "      <td>BetOnline</td>\n",
       "      <td>340.0</td>\n",
       "      <td>9.0</td>\n",
       "      <td>-106.0</td>\n",
       "      <td>223.0</td>\n",
       "      <td>-110.0</td>\n",
       "      <td>-110.0</td>\n",
       "      <td>1459841</td>\n",
       "    </tr>\n",
       "    <tr>\n",
       "      <th>...</th>\n",
       "      <td>...</td>\n",
       "      <td>...</td>\n",
       "      <td>...</td>\n",
       "      <td>...</td>\n",
       "      <td>...</td>\n",
       "      <td>...</td>\n",
       "      <td>...</td>\n",
       "      <td>...</td>\n",
       "      <td>...</td>\n",
       "    </tr>\n",
       "    <tr>\n",
       "      <th>73295</th>\n",
       "      <td>PHO</td>\n",
       "      <td>MyBookie</td>\n",
       "      <td>475.0</td>\n",
       "      <td>10.0</td>\n",
       "      <td>-110.0</td>\n",
       "      <td>209.0</td>\n",
       "      <td>-110.0</td>\n",
       "      <td>-110.0</td>\n",
       "      <td>894160</td>\n",
       "    </tr>\n",
       "    <tr>\n",
       "      <th>73296</th>\n",
       "      <td>BOS</td>\n",
       "      <td>GTBets</td>\n",
       "      <td>-691.0</td>\n",
       "      <td>-10.0</td>\n",
       "      <td>-111.0</td>\n",
       "      <td>209.0</td>\n",
       "      <td>-107.0</td>\n",
       "      <td>-108.0</td>\n",
       "      <td>894160</td>\n",
       "    </tr>\n",
       "    <tr>\n",
       "      <th>73297</th>\n",
       "      <td>PHO</td>\n",
       "      <td>GTBets</td>\n",
       "      <td>492.0</td>\n",
       "      <td>10.0</td>\n",
       "      <td>-108.0</td>\n",
       "      <td>209.0</td>\n",
       "      <td>-107.0</td>\n",
       "      <td>-108.0</td>\n",
       "      <td>894160</td>\n",
       "    </tr>\n",
       "    <tr>\n",
       "      <th>73298</th>\n",
       "      <td>BOS</td>\n",
       "      <td>SkyBook</td>\n",
       "      <td>-662.0</td>\n",
       "      <td>-10.0</td>\n",
       "      <td>-110.0</td>\n",
       "      <td>208.5</td>\n",
       "      <td>-110.0</td>\n",
       "      <td>-110.0</td>\n",
       "      <td>894160</td>\n",
       "    </tr>\n",
       "    <tr>\n",
       "      <th>73299</th>\n",
       "      <td>PHO</td>\n",
       "      <td>SkyBook</td>\n",
       "      <td>462.0</td>\n",
       "      <td>10.0</td>\n",
       "      <td>-110.0</td>\n",
       "      <td>208.5</td>\n",
       "      <td>-110.0</td>\n",
       "      <td>-110.0</td>\n",
       "      <td>894160</td>\n",
       "    </tr>\n",
       "  </tbody>\n",
       "</table>\n",
       "<p>73300 rows × 9 columns</p>\n",
       "</div>"
      ],
      "text/plain": [
       "      team_abbv       book  moneyline  spread  spread_odds  total  over_odds  \\\n",
       "0           SAC    Opening      305.0    10.0       -110.0  220.0     -110.0   \n",
       "1           UTA    Opening     -455.0   -10.0       -110.0  220.0     -110.0   \n",
       "2           SAC     BOVADA      310.0     9.0       -110.0  223.0     -110.0   \n",
       "3           UTA     BOVADA     -415.0    -9.0       -110.0  223.0     -110.0   \n",
       "4           SAC  BetOnline      340.0     9.0       -106.0  223.0     -110.0   \n",
       "...         ...        ...        ...     ...          ...    ...        ...   \n",
       "73295       PHO   MyBookie      475.0    10.0       -110.0  209.0     -110.0   \n",
       "73296       BOS     GTBets     -691.0   -10.0       -111.0  209.0     -107.0   \n",
       "73297       PHO     GTBets      492.0    10.0       -108.0  209.0     -107.0   \n",
       "73298       BOS    SkyBook     -662.0   -10.0       -110.0  208.5     -110.0   \n",
       "73299       PHO    SkyBook      462.0    10.0       -110.0  208.5     -110.0   \n",
       "\n",
       "       under_odds  game_id  \n",
       "0          -110.0  1459841  \n",
       "1          -110.0  1459841  \n",
       "2          -110.0  1459841  \n",
       "3          -110.0  1459841  \n",
       "4          -110.0  1459841  \n",
       "...           ...      ...  \n",
       "73295      -110.0   894160  \n",
       "73296      -108.0   894160  \n",
       "73297      -108.0   894160  \n",
       "73298      -110.0   894160  \n",
       "73299      -110.0   894160  \n",
       "\n",
       "[73300 rows x 9 columns]"
      ]
     },
     "execution_count": 71,
     "metadata": {},
     "output_type": "execute_result"
    }
   ],
   "source": [
    "df_markets"
   ]
  },
  {
   "cell_type": "code",
   "execution_count": 84,
   "metadata": {},
   "outputs": [
    {
     "data": {
      "text/html": [
       "<div>\n",
       "<style scoped>\n",
       "    .dataframe tbody tr th:only-of-type {\n",
       "        vertical-align: middle;\n",
       "    }\n",
       "\n",
       "    .dataframe tbody tr th {\n",
       "        vertical-align: top;\n",
       "    }\n",
       "\n",
       "    .dataframe thead th {\n",
       "        text-align: right;\n",
       "    }\n",
       "</style>\n",
       "<table border=\"1\" class=\"dataframe\">\n",
       "  <thead>\n",
       "    <tr style=\"text-align: right;\">\n",
       "      <th></th>\n",
       "      <th>index</th>\n",
       "      <th>book</th>\n",
       "      <th>spread_line</th>\n",
       "      <th>spread_odds</th>\n",
       "      <th>total_line</th>\n",
       "      <th>over_odds</th>\n",
       "      <th>game_id</th>\n",
       "      <th>timestamp</th>\n",
       "    </tr>\n",
       "  </thead>\n",
       "  <tbody>\n",
       "    <tr>\n",
       "      <th>0</th>\n",
       "      <td>0</td>\n",
       "      <td>BOVADA</td>\n",
       "      <td>-7.0</td>\n",
       "      <td>-110.0</td>\n",
       "      <td>224.5</td>\n",
       "      <td>-110.0</td>\n",
       "      <td>1459741</td>\n",
       "      <td>2021-10-30 08:10:27</td>\n",
       "    </tr>\n",
       "    <tr>\n",
       "      <th>1</th>\n",
       "      <td>1</td>\n",
       "      <td>BOVADA</td>\n",
       "      <td>-7.0</td>\n",
       "      <td>-110.0</td>\n",
       "      <td>223.5</td>\n",
       "      <td>-110.0</td>\n",
       "      <td>1459741</td>\n",
       "      <td>2021-10-30 08:35:12</td>\n",
       "    </tr>\n",
       "    <tr>\n",
       "      <th>2</th>\n",
       "      <td>2</td>\n",
       "      <td>BOVADA</td>\n",
       "      <td>-7.0</td>\n",
       "      <td>-110.0</td>\n",
       "      <td>224.0</td>\n",
       "      <td>-110.0</td>\n",
       "      <td>1459741</td>\n",
       "      <td>2021-10-30 15:43:56</td>\n",
       "    </tr>\n",
       "    <tr>\n",
       "      <th>3</th>\n",
       "      <td>3</td>\n",
       "      <td>BOVADA</td>\n",
       "      <td>-7.0</td>\n",
       "      <td>-110.0</td>\n",
       "      <td>224.5</td>\n",
       "      <td>-110.0</td>\n",
       "      <td>1459741</td>\n",
       "      <td>2021-10-30 15:50:00</td>\n",
       "    </tr>\n",
       "    <tr>\n",
       "      <th>4</th>\n",
       "      <td>4</td>\n",
       "      <td>BOVADA</td>\n",
       "      <td>-7.0</td>\n",
       "      <td>-110.0</td>\n",
       "      <td>223.5</td>\n",
       "      <td>-110.0</td>\n",
       "      <td>1459741</td>\n",
       "      <td>2021-10-30 16:06:15</td>\n",
       "    </tr>\n",
       "    <tr>\n",
       "      <th>...</th>\n",
       "      <td>...</td>\n",
       "      <td>...</td>\n",
       "      <td>...</td>\n",
       "      <td>...</td>\n",
       "      <td>...</td>\n",
       "      <td>...</td>\n",
       "      <td>...</td>\n",
       "      <td>...</td>\n",
       "    </tr>\n",
       "    <tr>\n",
       "      <th>763519</th>\n",
       "      <td>763519</td>\n",
       "      <td>SportsBetting</td>\n",
       "      <td>10.0</td>\n",
       "      <td>-107.0</td>\n",
       "      <td>208.0</td>\n",
       "      <td>-110.0</td>\n",
       "      <td>894160</td>\n",
       "      <td>2018-03-26 21:27:53</td>\n",
       "    </tr>\n",
       "    <tr>\n",
       "      <th>763520</th>\n",
       "      <td>763520</td>\n",
       "      <td>SportsBetting</td>\n",
       "      <td>10.0</td>\n",
       "      <td>-105.0</td>\n",
       "      <td>208.5</td>\n",
       "      <td>-110.0</td>\n",
       "      <td>894160</td>\n",
       "      <td>2018-03-26 21:38:19</td>\n",
       "    </tr>\n",
       "    <tr>\n",
       "      <th>763521</th>\n",
       "      <td>763521</td>\n",
       "      <td>SportsBetting</td>\n",
       "      <td>10.0</td>\n",
       "      <td>-105.0</td>\n",
       "      <td>208.5</td>\n",
       "      <td>-115.0</td>\n",
       "      <td>894160</td>\n",
       "      <td>2018-03-26 21:43:27</td>\n",
       "    </tr>\n",
       "    <tr>\n",
       "      <th>763522</th>\n",
       "      <td>763522</td>\n",
       "      <td>SportsBetting</td>\n",
       "      <td>10.0</td>\n",
       "      <td>-105.0</td>\n",
       "      <td>209.0</td>\n",
       "      <td>-110.0</td>\n",
       "      <td>894160</td>\n",
       "      <td>2018-03-26 21:58:51</td>\n",
       "    </tr>\n",
       "    <tr>\n",
       "      <th>763523</th>\n",
       "      <td>763523</td>\n",
       "      <td>SportsBetting</td>\n",
       "      <td>10.0</td>\n",
       "      <td>-110.0</td>\n",
       "      <td>209.0</td>\n",
       "      <td>-105.0</td>\n",
       "      <td>894160</td>\n",
       "      <td>2018-03-26 22:03:58</td>\n",
       "    </tr>\n",
       "  </tbody>\n",
       "</table>\n",
       "<p>763524 rows × 8 columns</p>\n",
       "</div>"
      ],
      "text/plain": [
       "         index           book  spread_line  spread_odds  total_line  \\\n",
       "0            0         BOVADA         -7.0       -110.0       224.5   \n",
       "1            1         BOVADA         -7.0       -110.0       223.5   \n",
       "2            2         BOVADA         -7.0       -110.0       224.0   \n",
       "3            3         BOVADA         -7.0       -110.0       224.5   \n",
       "4            4         BOVADA         -7.0       -110.0       223.5   \n",
       "...        ...            ...          ...          ...         ...   \n",
       "763519  763519  SportsBetting         10.0       -107.0       208.0   \n",
       "763520  763520  SportsBetting         10.0       -105.0       208.5   \n",
       "763521  763521  SportsBetting         10.0       -105.0       208.5   \n",
       "763522  763522  SportsBetting         10.0       -105.0       209.0   \n",
       "763523  763523  SportsBetting         10.0       -110.0       209.0   \n",
       "\n",
       "        over_odds  game_id           timestamp  \n",
       "0          -110.0  1459741 2021-10-30 08:10:27  \n",
       "1          -110.0  1459741 2021-10-30 08:35:12  \n",
       "2          -110.0  1459741 2021-10-30 15:43:56  \n",
       "3          -110.0  1459741 2021-10-30 15:50:00  \n",
       "4          -110.0  1459741 2021-10-30 16:06:15  \n",
       "...           ...      ...                 ...  \n",
       "763519     -110.0   894160 2018-03-26 21:27:53  \n",
       "763520     -110.0   894160 2018-03-26 21:38:19  \n",
       "763521     -115.0   894160 2018-03-26 21:43:27  \n",
       "763522     -110.0   894160 2018-03-26 21:58:51  \n",
       "763523     -105.0   894160 2018-03-26 22:03:58  \n",
       "\n",
       "[763524 rows x 8 columns]"
      ]
     },
     "execution_count": 84,
     "metadata": {},
     "output_type": "execute_result"
    }
   ],
   "source": [
    "df_timeseries"
   ]
  },
  {
   "cell_type": "code",
   "execution_count": null,
   "metadata": {},
   "outputs": [],
   "source": []
  },
  {
   "cell_type": "code",
   "execution_count": 95,
   "metadata": {},
   "outputs": [],
   "source": [
    "model_pred_and_errors = model_df.merge(predictions_2_df.loc[:, [\"y_hat\", \"Squared_Error\"]], right_index=True, left_index=True)\\\n",
    "    .merge(predictions.loc[:, [\"y_hat\", \"Squared_Error\"]], left_index=True, right_index=True, suffixes=(\"_m2\", \"_m1\"))"
   ]
  },
  {
   "cell_type": "code",
   "execution_count": 114,
   "metadata": {},
   "outputs": [],
   "source": [
    "game_predictions_lr = pd.concat([model_pred_and_errors.iloc[::2, 7:].reset_index(drop=True),model_pred_and_errors.iloc[1::2, 7:].reset_index(drop=True)], axis=1)"
   ]
  },
  {
   "cell_type": "code",
   "execution_count": 116,
   "metadata": {},
   "outputs": [
    {
     "data": {
      "text/plain": [
       "Index(['y_hat_m2', 'Squared_Error_m2', 'y_hat_m1', 'Squared_Error_m1',\n",
       "       'y_hat_m2', 'Squared_Error_m2', 'y_hat_m1', 'Squared_Error_m1'],\n",
       "      dtype='object')"
      ]
     },
     "execution_count": 116,
     "metadata": {},
     "output_type": "execute_result"
    }
   ],
   "source": [
    "game_predictions_lr.columns "
   ]
  },
  {
   "cell_type": "code",
   "execution_count": 117,
   "metadata": {},
   "outputs": [],
   "source": [
    "game_predictions_lr.columns = ['m2_proj_home', 'm2_error_home', 'm1_proj_home', 'm1_error_home',\n",
    "       'm2_proj_away', 'm2_error_away', 'm1_proj_away', 'm1_error_away']"
   ]
  },
  {
   "cell_type": "code",
   "execution_count": 122,
   "metadata": {},
   "outputs": [
    {
     "data": {
      "text/plain": [
       "True"
      ]
     },
     "execution_count": 122,
     "metadata": {},
     "output_type": "execute_result"
    }
   ],
   "source": [
    "df_results.shape[0] == game_predictions_lr.shape[0]"
   ]
  },
  {
   "cell_type": "code",
   "execution_count": 124,
   "metadata": {},
   "outputs": [],
   "source": [
    "results_and_projections = df_results.merge(game_predictions_lr, left_index=True, right_index=True)"
   ]
  },
  {
   "cell_type": "code",
   "execution_count": 125,
   "metadata": {},
   "outputs": [
    {
     "data": {
      "text/html": [
       "<div>\n",
       "<style scoped>\n",
       "    .dataframe tbody tr th:only-of-type {\n",
       "        vertical-align: middle;\n",
       "    }\n",
       "\n",
       "    .dataframe tbody tr th {\n",
       "        vertical-align: top;\n",
       "    }\n",
       "\n",
       "    .dataframe thead th {\n",
       "        text-align: right;\n",
       "    }\n",
       "</style>\n",
       "<table border=\"1\" class=\"dataframe\">\n",
       "  <thead>\n",
       "    <tr style=\"text-align: right;\">\n",
       "      <th></th>\n",
       "      <th>team_abbv</th>\n",
       "      <th>book</th>\n",
       "      <th>moneyline</th>\n",
       "      <th>spread</th>\n",
       "      <th>spread_odds</th>\n",
       "      <th>total</th>\n",
       "      <th>over_odds</th>\n",
       "      <th>under_odds</th>\n",
       "      <th>game_id</th>\n",
       "    </tr>\n",
       "  </thead>\n",
       "  <tbody>\n",
       "    <tr>\n",
       "      <th>0</th>\n",
       "      <td>SAC</td>\n",
       "      <td>Opening</td>\n",
       "      <td>305.0</td>\n",
       "      <td>10.0</td>\n",
       "      <td>-110.0</td>\n",
       "      <td>220.0</td>\n",
       "      <td>-110.0</td>\n",
       "      <td>-110.0</td>\n",
       "      <td>1459841</td>\n",
       "    </tr>\n",
       "    <tr>\n",
       "      <th>1</th>\n",
       "      <td>UTA</td>\n",
       "      <td>Opening</td>\n",
       "      <td>-455.0</td>\n",
       "      <td>-10.0</td>\n",
       "      <td>-110.0</td>\n",
       "      <td>220.0</td>\n",
       "      <td>-110.0</td>\n",
       "      <td>-110.0</td>\n",
       "      <td>1459841</td>\n",
       "    </tr>\n",
       "    <tr>\n",
       "      <th>2</th>\n",
       "      <td>SAC</td>\n",
       "      <td>BOVADA</td>\n",
       "      <td>310.0</td>\n",
       "      <td>9.0</td>\n",
       "      <td>-110.0</td>\n",
       "      <td>223.0</td>\n",
       "      <td>-110.0</td>\n",
       "      <td>-110.0</td>\n",
       "      <td>1459841</td>\n",
       "    </tr>\n",
       "    <tr>\n",
       "      <th>3</th>\n",
       "      <td>UTA</td>\n",
       "      <td>BOVADA</td>\n",
       "      <td>-415.0</td>\n",
       "      <td>-9.0</td>\n",
       "      <td>-110.0</td>\n",
       "      <td>223.0</td>\n",
       "      <td>-110.0</td>\n",
       "      <td>-110.0</td>\n",
       "      <td>1459841</td>\n",
       "    </tr>\n",
       "    <tr>\n",
       "      <th>4</th>\n",
       "      <td>SAC</td>\n",
       "      <td>BetOnline</td>\n",
       "      <td>340.0</td>\n",
       "      <td>9.0</td>\n",
       "      <td>-106.0</td>\n",
       "      <td>223.0</td>\n",
       "      <td>-110.0</td>\n",
       "      <td>-110.0</td>\n",
       "      <td>1459841</td>\n",
       "    </tr>\n",
       "    <tr>\n",
       "      <th>...</th>\n",
       "      <td>...</td>\n",
       "      <td>...</td>\n",
       "      <td>...</td>\n",
       "      <td>...</td>\n",
       "      <td>...</td>\n",
       "      <td>...</td>\n",
       "      <td>...</td>\n",
       "      <td>...</td>\n",
       "      <td>...</td>\n",
       "    </tr>\n",
       "    <tr>\n",
       "      <th>73295</th>\n",
       "      <td>PHO</td>\n",
       "      <td>MyBookie</td>\n",
       "      <td>475.0</td>\n",
       "      <td>10.0</td>\n",
       "      <td>-110.0</td>\n",
       "      <td>209.0</td>\n",
       "      <td>-110.0</td>\n",
       "      <td>-110.0</td>\n",
       "      <td>894160</td>\n",
       "    </tr>\n",
       "    <tr>\n",
       "      <th>73296</th>\n",
       "      <td>BOS</td>\n",
       "      <td>GTBets</td>\n",
       "      <td>-691.0</td>\n",
       "      <td>-10.0</td>\n",
       "      <td>-111.0</td>\n",
       "      <td>209.0</td>\n",
       "      <td>-107.0</td>\n",
       "      <td>-108.0</td>\n",
       "      <td>894160</td>\n",
       "    </tr>\n",
       "    <tr>\n",
       "      <th>73297</th>\n",
       "      <td>PHO</td>\n",
       "      <td>GTBets</td>\n",
       "      <td>492.0</td>\n",
       "      <td>10.0</td>\n",
       "      <td>-108.0</td>\n",
       "      <td>209.0</td>\n",
       "      <td>-107.0</td>\n",
       "      <td>-108.0</td>\n",
       "      <td>894160</td>\n",
       "    </tr>\n",
       "    <tr>\n",
       "      <th>73298</th>\n",
       "      <td>BOS</td>\n",
       "      <td>SkyBook</td>\n",
       "      <td>-662.0</td>\n",
       "      <td>-10.0</td>\n",
       "      <td>-110.0</td>\n",
       "      <td>208.5</td>\n",
       "      <td>-110.0</td>\n",
       "      <td>-110.0</td>\n",
       "      <td>894160</td>\n",
       "    </tr>\n",
       "    <tr>\n",
       "      <th>73299</th>\n",
       "      <td>PHO</td>\n",
       "      <td>SkyBook</td>\n",
       "      <td>462.0</td>\n",
       "      <td>10.0</td>\n",
       "      <td>-110.0</td>\n",
       "      <td>208.5</td>\n",
       "      <td>-110.0</td>\n",
       "      <td>-110.0</td>\n",
       "      <td>894160</td>\n",
       "    </tr>\n",
       "  </tbody>\n",
       "</table>\n",
       "<p>73300 rows × 9 columns</p>\n",
       "</div>"
      ],
      "text/plain": [
       "      team_abbv       book  moneyline  spread  spread_odds  total  over_odds  \\\n",
       "0           SAC    Opening      305.0    10.0       -110.0  220.0     -110.0   \n",
       "1           UTA    Opening     -455.0   -10.0       -110.0  220.0     -110.0   \n",
       "2           SAC     BOVADA      310.0     9.0       -110.0  223.0     -110.0   \n",
       "3           UTA     BOVADA     -415.0    -9.0       -110.0  223.0     -110.0   \n",
       "4           SAC  BetOnline      340.0     9.0       -106.0  223.0     -110.0   \n",
       "...         ...        ...        ...     ...          ...    ...        ...   \n",
       "73295       PHO   MyBookie      475.0    10.0       -110.0  209.0     -110.0   \n",
       "73296       BOS     GTBets     -691.0   -10.0       -111.0  209.0     -107.0   \n",
       "73297       PHO     GTBets      492.0    10.0       -108.0  209.0     -107.0   \n",
       "73298       BOS    SkyBook     -662.0   -10.0       -110.0  208.5     -110.0   \n",
       "73299       PHO    SkyBook      462.0    10.0       -110.0  208.5     -110.0   \n",
       "\n",
       "       under_odds  game_id  \n",
       "0          -110.0  1459841  \n",
       "1          -110.0  1459841  \n",
       "2          -110.0  1459841  \n",
       "3          -110.0  1459841  \n",
       "4          -110.0  1459841  \n",
       "...           ...      ...  \n",
       "73295      -110.0   894160  \n",
       "73296      -108.0   894160  \n",
       "73297      -108.0   894160  \n",
       "73298      -110.0   894160  \n",
       "73299      -110.0   894160  \n",
       "\n",
       "[73300 rows x 9 columns]"
      ]
     },
     "execution_count": 125,
     "metadata": {},
     "output_type": "execute_result"
    }
   ],
   "source": [
    "df_markets"
   ]
  },
  {
   "cell_type": "code",
   "execution_count": 158,
   "metadata": {},
   "outputs": [],
   "source": [
    "games_and_id = df_gamecodes.loc[:, [\"home_abbv\", \"away_abbv\", \"game_id\"]]"
   ]
  },
  {
   "cell_type": "code",
   "execution_count": 424,
   "metadata": {},
   "outputs": [],
   "source": [
    "# Transform Team Markets to Game\n",
    "open_and_closing_mkts = games_and_id.merge(df_markets, left_on=[\"home_abbv\", \"game_id\"], right_on=[\"team_abbv\", \"game_id\"])\\\n",
    "    .merge(df_markets.loc[:, [\"team_abbv\", \"moneyline\", \"spread\", \"spread_odds\",\"book\", \"game_id\"]], left_on=[\"away_abbv\", \"game_id\", \"book\"], right_on=[\"team_abbv\", \"game_id\", \"book\"], suffixes=(\"_home\", \"_away\"))"
   ]
  },
  {
   "cell_type": "code",
   "execution_count": 425,
   "metadata": {},
   "outputs": [],
   "source": [
    "# Rearrange and Pari Down Redundant Columns\n",
    "open_and_closing_mkts =open_and_closing_mkts.loc[:, ['home_abbv', 'away_abbv', 'book',\n",
    "       'moneyline_home', 'moneyline_away', 'spread_home', 'spread_odds_home', 'spread_away', 'spread_odds_away',\n",
    "       'total', 'over_odds', 'under_odds', \"game_id\"]]"
   ]
  },
  {
   "cell_type": "code",
   "execution_count": 426,
   "metadata": {},
   "outputs": [
    {
     "data": {
      "text/html": [
       "<div>\n",
       "<style scoped>\n",
       "    .dataframe tbody tr th:only-of-type {\n",
       "        vertical-align: middle;\n",
       "    }\n",
       "\n",
       "    .dataframe tbody tr th {\n",
       "        vertical-align: top;\n",
       "    }\n",
       "\n",
       "    .dataframe thead th {\n",
       "        text-align: right;\n",
       "    }\n",
       "</style>\n",
       "<table border=\"1\" class=\"dataframe\">\n",
       "  <thead>\n",
       "    <tr style=\"text-align: right;\">\n",
       "      <th></th>\n",
       "      <th>home_abbv</th>\n",
       "      <th>away_abbv</th>\n",
       "      <th>book</th>\n",
       "      <th>moneyline_home</th>\n",
       "      <th>moneyline_away</th>\n",
       "      <th>spread_home</th>\n",
       "      <th>spread_odds_home</th>\n",
       "      <th>spread_away</th>\n",
       "      <th>spread_odds_away</th>\n",
       "      <th>total</th>\n",
       "      <th>over_odds</th>\n",
       "      <th>under_odds</th>\n",
       "      <th>game_id</th>\n",
       "    </tr>\n",
       "  </thead>\n",
       "  <tbody>\n",
       "    <tr>\n",
       "      <th>0</th>\n",
       "      <td>TOR</td>\n",
       "      <td>DAL</td>\n",
       "      <td>Opening</td>\n",
       "      <td>-777.0</td>\n",
       "      <td>622.0</td>\n",
       "      <td>-10.5</td>\n",
       "      <td>-110.0</td>\n",
       "      <td>10.5</td>\n",
       "      <td>-110.0</td>\n",
       "      <td>229.0</td>\n",
       "      <td>-110.0</td>\n",
       "      <td>-110.0</td>\n",
       "      <td>1026833</td>\n",
       "    </tr>\n",
       "    <tr>\n",
       "      <th>1</th>\n",
       "      <td>TOR</td>\n",
       "      <td>DAL</td>\n",
       "      <td>BetOnline</td>\n",
       "      <td>-850.0</td>\n",
       "      <td>635.0</td>\n",
       "      <td>-11.5</td>\n",
       "      <td>-105.0</td>\n",
       "      <td>11.5</td>\n",
       "      <td>-115.0</td>\n",
       "      <td>221.5</td>\n",
       "      <td>-103.0</td>\n",
       "      <td>-117.0</td>\n",
       "      <td>1026833</td>\n",
       "    </tr>\n",
       "    <tr>\n",
       "      <th>2</th>\n",
       "      <td>TOR</td>\n",
       "      <td>DAL</td>\n",
       "      <td>Intertops</td>\n",
       "      <td>-900.0</td>\n",
       "      <td>600.0</td>\n",
       "      <td>-11.5</td>\n",
       "      <td>-110.0</td>\n",
       "      <td>11.5</td>\n",
       "      <td>-110.0</td>\n",
       "      <td>221.0</td>\n",
       "      <td>-110.0</td>\n",
       "      <td>-110.0</td>\n",
       "      <td>1026833</td>\n",
       "    </tr>\n",
       "    <tr>\n",
       "      <th>3</th>\n",
       "      <td>TOR</td>\n",
       "      <td>DAL</td>\n",
       "      <td>SportsBetting</td>\n",
       "      <td>-850.0</td>\n",
       "      <td>635.0</td>\n",
       "      <td>-11.5</td>\n",
       "      <td>-105.0</td>\n",
       "      <td>11.5</td>\n",
       "      <td>-115.0</td>\n",
       "      <td>221.5</td>\n",
       "      <td>-103.0</td>\n",
       "      <td>-117.0</td>\n",
       "      <td>1026833</td>\n",
       "    </tr>\n",
       "    <tr>\n",
       "      <th>4</th>\n",
       "      <td>TOR</td>\n",
       "      <td>DAL</td>\n",
       "      <td>BetNow</td>\n",
       "      <td>-930.0</td>\n",
       "      <td>615.0</td>\n",
       "      <td>-11.5</td>\n",
       "      <td>-110.0</td>\n",
       "      <td>11.5</td>\n",
       "      <td>-110.0</td>\n",
       "      <td>221.5</td>\n",
       "      <td>-110.0</td>\n",
       "      <td>-110.0</td>\n",
       "      <td>1026833</td>\n",
       "    </tr>\n",
       "  </tbody>\n",
       "</table>\n",
       "</div>"
      ],
      "text/plain": [
       "  home_abbv away_abbv           book  moneyline_home  moneyline_away  \\\n",
       "0       TOR       DAL        Opening          -777.0           622.0   \n",
       "1       TOR       DAL      BetOnline          -850.0           635.0   \n",
       "2       TOR       DAL      Intertops          -900.0           600.0   \n",
       "3       TOR       DAL  SportsBetting          -850.0           635.0   \n",
       "4       TOR       DAL         BetNow          -930.0           615.0   \n",
       "\n",
       "   spread_home  spread_odds_home  spread_away  spread_odds_away  total  \\\n",
       "0        -10.5            -110.0         10.5            -110.0  229.0   \n",
       "1        -11.5            -105.0         11.5            -115.0  221.5   \n",
       "2        -11.5            -110.0         11.5            -110.0  221.0   \n",
       "3        -11.5            -105.0         11.5            -115.0  221.5   \n",
       "4        -11.5            -110.0         11.5            -110.0  221.5   \n",
       "\n",
       "   over_odds  under_odds  game_id  \n",
       "0     -110.0      -110.0  1026833  \n",
       "1     -103.0      -117.0  1026833  \n",
       "2     -110.0      -110.0  1026833  \n",
       "3     -103.0      -117.0  1026833  \n",
       "4     -110.0      -110.0  1026833  "
      ]
     },
     "execution_count": 426,
     "metadata": {},
     "output_type": "execute_result"
    }
   ],
   "source": [
    "open_and_closing_mkts.head()"
   ]
  },
  {
   "cell_type": "code",
   "execution_count": null,
   "metadata": {},
   "outputs": [],
   "source": [
    "actual_scores = df_results.loc[:, [\"pts_home\", \"pts_away\", \"game_id\"]]"
   ]
  },
  {
   "cell_type": "code",
   "execution_count": null,
   "metadata": {},
   "outputs": [],
   "source": [
    "results_and_projections = results_and_projections.drop([\"m2_proj_home\", \"m2_error_home\", \"m1_proj_home\", \"m1_error_home\", \"m2_proj_away\", \"m2_error_away\", \"m1_proj_away\", \"m1_error_away\"], axis=1)"
   ]
  },
  {
   "cell_type": "code",
   "execution_count": null,
   "metadata": {},
   "outputs": [],
   "source": [
    "# Need to Regenerate Model Predictions Due to a Bad Concatenation Somewhere Up Top\n",
    "xs_1 = results_and_projections.loc[:, [\"efg_pct_home\", \"orb_pct_home\", \"tov_pct_home\", \"fta_per_fga_pct_home\"]].values\n",
    "xs_2 = results_and_projections.loc[:, [\"efg_pct_away\", \"orb_pct_away\", \"tov_pct_away\", \"fta_per_fga_pct_away\"]].values"
   ]
  },
  {
   "cell_type": "code",
   "execution_count": null,
   "metadata": {},
   "outputs": [],
   "source": [
    "home_array = model_1.predict(xs_1)\n",
    "away_array = model_1.predict(xs_2)"
   ]
  },
  {
   "cell_type": "code",
   "execution_count": null,
   "metadata": {},
   "outputs": [],
   "source": [
    "results_and_projections[\"m1_proj_home\"] = home_array\n",
    "results_and_projections[\"m1_proj_away\"] = away_array"
   ]
  },
  {
   "cell_type": "code",
   "execution_count": null,
   "metadata": {},
   "outputs": [],
   "source": [
    "xs_1 = results_and_projections.loc[:, [\"efg_pct_home\", \"orb_pct_home\", \"tov_pct_home\", \"fta_per_fga_pct_home\", \"game_possessions\"]].values\n",
    "xs_2 = results_and_projections.loc[:, [\"efg_pct_away\", \"orb_pct_away\", \"tov_pct_away\", \"fta_per_fga_pct_away\", \"game_possessions\"]].values"
   ]
  },
  {
   "cell_type": "code",
   "execution_count": null,
   "metadata": {},
   "outputs": [],
   "source": [
    "results_and_projections[\"m2_proj_home\"] = model_2.predict(xs_1)\n",
    "results_and_projections[\"m2_proj_away\"] = model_2.predict(xs_2)"
   ]
  },
  {
   "cell_type": "code",
   "execution_count": null,
   "metadata": {},
   "outputs": [],
   "source": [
    "results_and_projections[\"m2_proj_home\"] = results_and_projections[\"m2_proj_home\"].apply(round, ndigits=3)\n",
    "results_and_projections[\"m2_proj_away\"] = results_and_projections[\"m2_proj_away\"].apply(round, ndigits=3)\n",
    "results_and_projections[\"m1_proj_home\"] = results_and_projections[\"m1_proj_home\"].apply(round, ndigits=3)\n",
    "results_and_projections[\"m1_proj_away\"] = results_and_projections[\"m1_proj_away\"].apply(round, ndigits=3)"
   ]
  },
  {
   "cell_type": "code",
   "execution_count": 550,
   "metadata": {},
   "outputs": [],
   "source": [
    "# Transform American Odds Into Amount Earned Given Betting $100\n",
    "def oddsFlip(american_odds):\n",
    "    american_odds = float(american_odds)\n",
    "    if american_odds < 0:\n",
    "        return round((100/(abs(american_odds)))*100, 2)\n",
    "    else:\n",
    "        return american_odds "
   ]
  },
  {
   "cell_type": "code",
   "execution_count": 756,
   "metadata": {},
   "outputs": [],
   "source": [
    "def oddsToProb(american_odds):\n",
    "    american_odds = float(american_odds)\n",
    "    if american_odds < 0:\n",
    "        return 100 / ((american_odds*-1) + 100)\n",
    "    else:\n",
    "        return american_odds / (american_odds + 100)"
   ]
  },
  {
   "cell_type": "code",
   "execution_count": 766,
   "metadata": {},
   "outputs": [],
   "source": [
    "class ModelAnalyzer:\n",
    "    def __init__(self, projections, markets, ground_truth, estimate, unit=100):\n",
    "        self.projections = projections\n",
    "        self.markets = markets\n",
    "        self.ground_truth = ground_truth\n",
    "        self.estimate = estimate\n",
    "        self.unit = unit\n",
    "        self.odds_matrix = None\n",
    "        self.graded_picks = None\n",
    "\n",
    "    # Decompose Markets Into Score Projections\n",
    "    def transform_markets(self):\n",
    "        self.markets[\"market_score_home\"] = ((self.markets[\"spread_home\"] * -1) / 2) + ((self.markets[\"total\"]) / 2)\n",
    "        self.markets[\"market_score_away\"] = ((self.markets[\"spread_away\"] * -1) / 2) + ((self.markets[\"total\"]) / 2)\n",
    "        self.market_projections = self.markets.loc[:, [\"book\", \"market_score_home\", \"market_score_away\", \"game_id\"]] \n",
    "        return None\n",
    "    # Transform Score Projections Into Markets\n",
    "    def scores_to_market(self):\n",
    "        self.projected_markets = pd.DataFrame()\n",
    "        self.projected_markets[\"game_id\"] = self.projections.game_id\n",
    "        self.projected_markets[\"proj_spread\"] = ((self.projections[f\"{self.estimate}_proj_home\"] - self.projections[f\"{self.estimate}_proj_away\"]) * -1).apply(round, ndigits=3)\n",
    "        self.projected_markets[\"proj_total\"] = (self.projections[f\"{self.estimate}_proj_home\"] + self.projections[f\"{self.estimate}_proj_away\"]).apply(round, ndigits=3)\n",
    "        self.projected_markets[\"proj_ml\"] = (self.projections[f\"{self.estimate}_proj_home\"] > self.projections[f\"{self.estimate}_proj_away\"]).astype(\"int32\")\n",
    "        return None\n",
    "    # Evaluate Wanted Markets Vs. Ground Truth\n",
    "    def eval_markets(self):\n",
    "        full_gmm = pd.DataFrame()\n",
    "        self.ground_truth[\"real_total\"] = self.ground_truth[\"pts_home\"] + self.ground_truth[\"pts_away\"]\n",
    "        # will be in terms of home\n",
    "        self.ground_truth[\"real_spread\"] = (self.ground_truth[\"pts_home\"] - self.ground_truth[\"pts_away\"])*-1\n",
    "        # Only Market That Grades The Same For All Markets Since it Is Concerned With Wins and Losses \n",
    "        self.ground_truth[\"ml_bin\"] = (self.ground_truth[\"pts_home\"] > self.ground_truth[\"pts_away\"]).apply(lambda x: \"W\" if x else \"L\")\n",
    "        for market in self.markets.book.unique():\n",
    "            market_lines_df = self.markets.query(f\"book == '{market}'\")\n",
    "            market_closing_lines = market_lines_df.loc[:, [\"spread_home\", \"total\", \"game_id\"]]\n",
    "            market_odds = market_lines_df.loc[:, [x for x in market_lines_df.columns if \"odds\" in x or \"moneyline\" in x]]\n",
    "            for am_odds in market_odds.columns:\n",
    "                market_odds[am_odds] = market_odds[am_odds].apply(oddsFlip)\n",
    "\n",
    "            market_closing_lines = market_closing_lines.merge(self.ground_truth, on=[\"game_id\"])\n",
    "            conditions_list = [(market_closing_lines.spread_home == market_closing_lines.real_spread), (market_closing_lines.spread_home < market_closing_lines.real_spread),\n",
    "            (market_closing_lines.spread_home > market_closing_lines.real_spread)]\n",
    "            market_closing_lines[\"spread_bin\"]  = np.select(condlist=conditions_list, choicelist=[\"P\", \"L\", \"W\"])\n",
    "            conditions_list = [(market_closing_lines.total == market_closing_lines.real_total), (market_closing_lines.total < market_closing_lines.real_total),\n",
    "            (market_closing_lines.total > market_closing_lines.real_total)]\n",
    "            market_closing_lines[\"over_under_bin\"] = np.select(condlist=conditions_list, choicelist=[\"P\", \"O\", \"U\"])\n",
    "            market_closing_lines[\"book\"] = market\n",
    "            full_gmm = pd.concat([full_gmm, market_closing_lines.loc[:, [\"ml_bin\", \"over_under_bin\", \"spread_bin\", \"book\", \"game_id\"]]], axis=0).reset_index(drop=True)\n",
    "        self.full_book_eval = full_gmm\n",
    "        return None\n",
    "    # Evaluate (Market vs. Truth) vs. (Projected Market vs. Actual Market)\n",
    "    def eval_model(self, book):\n",
    "        actual_mkt = self.markets.query(f\"book == '{book}'\")\n",
    "        mkt_comparison = actual_mkt.merge(self.projected_markets, on=\"game_id\")\n",
    "        mkt_comparison[\"spread_pick\"] = (mkt_comparison[\"proj_spread\"] < mkt_comparison[\"spread_home\"]).apply(lambda x: \"W\" if x else \"L\")\n",
    "        mkt_comparison[\"total_pick\"] = (mkt_comparison[\"proj_total\"] < mkt_comparison[\"total\"]).apply(lambda x: \"U\" if x else \"O\") # You Think the Total Will Go Under\n",
    "        mkt_comparison[\"book\"] = book\n",
    "        mkt_comparison = mkt_comparison.rename(columns={\"proj_ml\": \"ml_pick\"})\n",
    "        mkt_comparison.ml_pick = mkt_comparison.ml_pick.apply(lambda x: \"W\" if x else \"L\")\n",
    "        odds_df = mkt_comparison.loc[:, [\"moneyline_home\", \"moneyline_away\", \"spread_odds_home\", \"spread_odds_away\", \"over_odds\", \"under_odds\", \"game_id\"]]\n",
    "        mkt_comparison = mkt_comparison.loc[:, [\"spread_pick\", \"total_pick\", \"ml_pick\", \"game_id\"]]\n",
    "        self.prob_matrix = odds_df.copy(deep=True)\n",
    "        for col in [c for c in odds_df.columns if c != \"game_id\"]:\n",
    "            odds_df[col] = odds_df[col].apply(oddsFlip)\n",
    "        odds_matrix = pd.DataFrame()\n",
    "        odds_matrix[\"ml_odds\"] = np.where(mkt_comparison.ml_pick == \"W\", odds_df.moneyline_home, odds_df.moneyline_away)\n",
    "        odds_matrix[\"spread_odds\"] = np.where(mkt_comparison.spread_pick == \"W\", odds_df.spread_odds_home, odds_df.spread_odds_away)\n",
    "        odds_matrix[\"total_odds\"] = np.where(mkt_comparison.ml_pick == \"O\", odds_df.over_odds, odds_df.under_odds)\n",
    "        odds_matrix[\"book\"] = book\n",
    "        odds_matrix = odds_matrix.fillna(0)\n",
    "        self.odds_matrix = odds_matrix\n",
    "        [(mkt_comparison.spread_pick == \"W\"), (mkt_comparison.spread_pick == \"L\")]\n",
    "        [(mkt_comparison.spread_pick == \"O\"), (mkt_comparison.spread_pick == \"U\")]\n",
    "        mkt_grades = self.full_book_eval.query(f\"book == '{book}'\")\n",
    "        grader = mkt_grades.merge(mkt_comparison, on=\"game_id\")\n",
    "        grader[\"ml_pk\"] = (grader[\"ml_bin\"] == grader[\"ml_pick\"]).apply(lambda x: \"W\" if x else \"L\")\n",
    "        grader[\"spread_pk\"] = np.select(condlist=[grader[\"spread_bin\"] == \"P\", (grader[\"spread_bin\"] == grader[\"spread_pick\"]), (grader[\"spread_bin\"] != grader[\"spread_pick\"])], choicelist=[\"P\", \"W\", \"L\"])\n",
    "        grader[\"total_pk\"] = np.select(condlist=[grader[\"over_under_bin\"] == \"P\", (grader[\"over_under_bin\"] == grader[\"total_pick\"]), (grader[\"over_under_bin\"] != grader[\"total_pick\"])], choicelist=[\"P\", \"W\", \"L\"])\n",
    "        self.graded_picks = grader.loc[:, [\"ml_pk\", \"spread_pk\", \"total_pk\", \"book\", \"game_id\"]]\n",
    "        return None\n",
    "    \n",
    "    def create_winnings(self, book, unit):\n",
    "        self.unit = unit\n",
    "        self.winnings_matrix = pd.DataFrame()\n",
    "        _odds = self.odds_matrix.query(f\"book == '{book}'\")\n",
    "        for c in [x for x in _odds.columns if x != \"book\"]:\n",
    "            _odds[c] = (_odds[c] / 100).astype(\"float32\").apply(round, ndigits=4)\n",
    "        _grades = self.graded_picks.query(f\"book == '{book}'\").loc[:, [\"ml_pk\", \"spread_pk\", \"total_pk\"]]\n",
    "        for market in [m for m in _grades.columns]:\n",
    "            self.winnings_matrix[market.replace(\"pk\", \"winnings\")] = np.select([_grades[market]==\"W\", _grades[market]==\"P\", _grades[market]==\"L\"], [1+_odds[market.replace(\"pk\", \"odds\")], 1, -1]) \n",
    "        self.winnings_matrix = self.winnings_matrix * self.unit\n",
    "        self.winnings_matrix[\"book\"] = book\n",
    "        return self.winnings_matrix\n",
    "\n",
    "    def create_probability_matrix(self):\n",
    "        for col in [x for x in self.prob_matrix.columns if x != \"game_id\"]:\n",
    "            self.prob_matrix[col] = self.prob_matrix[col].apply(oddsToProb).astype(\"float32\")\n",
    "        return self.prob_matrix\n",
    "\n",
    "    \n"
   ]
  },
  {
   "cell_type": "code",
   "execution_count": 568,
   "metadata": {},
   "outputs": [],
   "source": [
    "cls_mkt = open_and_closing_mkts.copy(deep=True)\n",
    "cls_ts = df_timeseries.copy(deep=True)\n",
    "cls_proj = results_and_projections.copy(deep=True)\n",
    "cls_groundtruth = actual_scores.copy(deep=True)"
   ]
  },
  {
   "cell_type": "code",
   "execution_count": 767,
   "metadata": {},
   "outputs": [],
   "source": [
    "sample = ModelAnalyzer(cls_proj, cls_mkt, cls_groundtruth, \"m2\", unit=25)"
   ]
  },
  {
   "cell_type": "code",
   "execution_count": 768,
   "metadata": {},
   "outputs": [],
   "source": [
    "sample.eval_markets()"
   ]
  },
  {
   "cell_type": "code",
   "execution_count": 769,
   "metadata": {},
   "outputs": [],
   "source": [
    "sample.transform_markets()"
   ]
  },
  {
   "cell_type": "code",
   "execution_count": 770,
   "metadata": {},
   "outputs": [],
   "source": [
    "sample.scores_to_market()"
   ]
  },
  {
   "cell_type": "code",
   "execution_count": 771,
   "metadata": {},
   "outputs": [],
   "source": [
    "sample.eval_model(\"BetOnline\")"
   ]
  },
  {
   "cell_type": "code",
   "execution_count": 772,
   "metadata": {},
   "outputs": [
    {
     "data": {
      "text/html": [
       "<div>\n",
       "<style scoped>\n",
       "    .dataframe tbody tr th:only-of-type {\n",
       "        vertical-align: middle;\n",
       "    }\n",
       "\n",
       "    .dataframe tbody tr th {\n",
       "        vertical-align: top;\n",
       "    }\n",
       "\n",
       "    .dataframe thead th {\n",
       "        text-align: right;\n",
       "    }\n",
       "</style>\n",
       "<table border=\"1\" class=\"dataframe\">\n",
       "  <thead>\n",
       "    <tr style=\"text-align: right;\">\n",
       "      <th></th>\n",
       "      <th>ml_odds</th>\n",
       "      <th>spread_odds</th>\n",
       "      <th>total_odds</th>\n",
       "      <th>book</th>\n",
       "    </tr>\n",
       "  </thead>\n",
       "  <tbody>\n",
       "    <tr>\n",
       "      <th>0</th>\n",
       "      <td>11.76</td>\n",
       "      <td>95.24</td>\n",
       "      <td>85.47</td>\n",
       "      <td>BetOnline</td>\n",
       "    </tr>\n",
       "    <tr>\n",
       "      <th>1</th>\n",
       "      <td>67.57</td>\n",
       "      <td>90.91</td>\n",
       "      <td>95.24</td>\n",
       "      <td>BetOnline</td>\n",
       "    </tr>\n",
       "    <tr>\n",
       "      <th>2</th>\n",
       "      <td>9.09</td>\n",
       "      <td>88.50</td>\n",
       "      <td>95.24</td>\n",
       "      <td>BetOnline</td>\n",
       "    </tr>\n",
       "    <tr>\n",
       "      <th>3</th>\n",
       "      <td>25.97</td>\n",
       "      <td>88.50</td>\n",
       "      <td>87.72</td>\n",
       "      <td>BetOnline</td>\n",
       "    </tr>\n",
       "    <tr>\n",
       "      <th>4</th>\n",
       "      <td>415.00</td>\n",
       "      <td>93.46</td>\n",
       "      <td>105.00</td>\n",
       "      <td>BetOnline</td>\n",
       "    </tr>\n",
       "    <tr>\n",
       "      <th>...</th>\n",
       "      <td>...</td>\n",
       "      <td>...</td>\n",
       "      <td>...</td>\n",
       "      <td>...</td>\n",
       "    </tr>\n",
       "    <tr>\n",
       "      <th>3412</th>\n",
       "      <td>47.62</td>\n",
       "      <td>86.96</td>\n",
       "      <td>95.24</td>\n",
       "      <td>BetOnline</td>\n",
       "    </tr>\n",
       "    <tr>\n",
       "      <th>3413</th>\n",
       "      <td>172.00</td>\n",
       "      <td>92.59</td>\n",
       "      <td>95.24</td>\n",
       "      <td>BetOnline</td>\n",
       "    </tr>\n",
       "    <tr>\n",
       "      <th>3414</th>\n",
       "      <td>62.50</td>\n",
       "      <td>92.59</td>\n",
       "      <td>94.34</td>\n",
       "      <td>BetOnline</td>\n",
       "    </tr>\n",
       "    <tr>\n",
       "      <th>3415</th>\n",
       "      <td>81.30</td>\n",
       "      <td>99.01</td>\n",
       "      <td>97.09</td>\n",
       "      <td>BetOnline</td>\n",
       "    </tr>\n",
       "    <tr>\n",
       "      <th>3416</th>\n",
       "      <td>39.22</td>\n",
       "      <td>95.24</td>\n",
       "      <td>90.91</td>\n",
       "      <td>BetOnline</td>\n",
       "    </tr>\n",
       "  </tbody>\n",
       "</table>\n",
       "<p>3417 rows × 4 columns</p>\n",
       "</div>"
      ],
      "text/plain": [
       "      ml_odds  spread_odds  total_odds       book\n",
       "0       11.76        95.24       85.47  BetOnline\n",
       "1       67.57        90.91       95.24  BetOnline\n",
       "2        9.09        88.50       95.24  BetOnline\n",
       "3       25.97        88.50       87.72  BetOnline\n",
       "4      415.00        93.46      105.00  BetOnline\n",
       "...       ...          ...         ...        ...\n",
       "3412    47.62        86.96       95.24  BetOnline\n",
       "3413   172.00        92.59       95.24  BetOnline\n",
       "3414    62.50        92.59       94.34  BetOnline\n",
       "3415    81.30        99.01       97.09  BetOnline\n",
       "3416    39.22        95.24       90.91  BetOnline\n",
       "\n",
       "[3417 rows x 4 columns]"
      ]
     },
     "execution_count": 772,
     "metadata": {},
     "output_type": "execute_result"
    }
   ],
   "source": [
    "sample.odds_matrix"
   ]
  },
  {
   "cell_type": "code",
   "execution_count": 773,
   "metadata": {},
   "outputs": [
    {
     "data": {
      "text/html": [
       "<div>\n",
       "<style scoped>\n",
       "    .dataframe tbody tr th:only-of-type {\n",
       "        vertical-align: middle;\n",
       "    }\n",
       "\n",
       "    .dataframe tbody tr th {\n",
       "        vertical-align: top;\n",
       "    }\n",
       "\n",
       "    .dataframe thead th {\n",
       "        text-align: right;\n",
       "    }\n",
       "</style>\n",
       "<table border=\"1\" class=\"dataframe\">\n",
       "  <thead>\n",
       "    <tr style=\"text-align: right;\">\n",
       "      <th></th>\n",
       "      <th>ml_winnings</th>\n",
       "      <th>spread_winnings</th>\n",
       "      <th>total_winnings</th>\n",
       "      <th>book</th>\n",
       "    </tr>\n",
       "  </thead>\n",
       "  <tbody>\n",
       "    <tr>\n",
       "      <th>0</th>\n",
       "      <td>27.9400</td>\n",
       "      <td>-25.0000</td>\n",
       "      <td>-25.0000</td>\n",
       "      <td>BetOnline</td>\n",
       "    </tr>\n",
       "    <tr>\n",
       "      <th>1</th>\n",
       "      <td>41.8925</td>\n",
       "      <td>47.7275</td>\n",
       "      <td>48.8100</td>\n",
       "      <td>BetOnline</td>\n",
       "    </tr>\n",
       "    <tr>\n",
       "      <th>2</th>\n",
       "      <td>27.2725</td>\n",
       "      <td>-25.0000</td>\n",
       "      <td>48.8100</td>\n",
       "      <td>BetOnline</td>\n",
       "    </tr>\n",
       "    <tr>\n",
       "      <th>3</th>\n",
       "      <td>31.4925</td>\n",
       "      <td>47.1250</td>\n",
       "      <td>46.9300</td>\n",
       "      <td>BetOnline</td>\n",
       "    </tr>\n",
       "    <tr>\n",
       "      <th>4</th>\n",
       "      <td>128.7500</td>\n",
       "      <td>48.3650</td>\n",
       "      <td>51.2500</td>\n",
       "      <td>BetOnline</td>\n",
       "    </tr>\n",
       "    <tr>\n",
       "      <th>...</th>\n",
       "      <td>...</td>\n",
       "      <td>...</td>\n",
       "      <td>...</td>\n",
       "      <td>...</td>\n",
       "    </tr>\n",
       "    <tr>\n",
       "      <th>3412</th>\n",
       "      <td>36.9050</td>\n",
       "      <td>-25.0000</td>\n",
       "      <td>48.8100</td>\n",
       "      <td>BetOnline</td>\n",
       "    </tr>\n",
       "    <tr>\n",
       "      <th>3413</th>\n",
       "      <td>68.0000</td>\n",
       "      <td>48.1475</td>\n",
       "      <td>48.8100</td>\n",
       "      <td>BetOnline</td>\n",
       "    </tr>\n",
       "    <tr>\n",
       "      <th>3414</th>\n",
       "      <td>40.6250</td>\n",
       "      <td>48.1475</td>\n",
       "      <td>48.5850</td>\n",
       "      <td>BetOnline</td>\n",
       "    </tr>\n",
       "    <tr>\n",
       "      <th>3415</th>\n",
       "      <td>45.3250</td>\n",
       "      <td>49.7525</td>\n",
       "      <td>49.2725</td>\n",
       "      <td>BetOnline</td>\n",
       "    </tr>\n",
       "    <tr>\n",
       "      <th>3416</th>\n",
       "      <td>34.8050</td>\n",
       "      <td>48.8100</td>\n",
       "      <td>47.7275</td>\n",
       "      <td>BetOnline</td>\n",
       "    </tr>\n",
       "  </tbody>\n",
       "</table>\n",
       "<p>3417 rows × 4 columns</p>\n",
       "</div>"
      ],
      "text/plain": [
       "      ml_winnings  spread_winnings  total_winnings       book\n",
       "0         27.9400         -25.0000        -25.0000  BetOnline\n",
       "1         41.8925          47.7275         48.8100  BetOnline\n",
       "2         27.2725         -25.0000         48.8100  BetOnline\n",
       "3         31.4925          47.1250         46.9300  BetOnline\n",
       "4        128.7500          48.3650         51.2500  BetOnline\n",
       "...           ...              ...             ...        ...\n",
       "3412      36.9050         -25.0000         48.8100  BetOnline\n",
       "3413      68.0000          48.1475         48.8100  BetOnline\n",
       "3414      40.6250          48.1475         48.5850  BetOnline\n",
       "3415      45.3250          49.7525         49.2725  BetOnline\n",
       "3416      34.8050          48.8100         47.7275  BetOnline\n",
       "\n",
       "[3417 rows x 4 columns]"
      ]
     },
     "execution_count": 773,
     "metadata": {},
     "output_type": "execute_result"
    }
   ],
   "source": [
    "sample.create_winnings(\"BetOnline\", 25)"
   ]
  },
  {
   "cell_type": "code",
   "execution_count": 774,
   "metadata": {},
   "outputs": [
    {
     "data": {
      "text/html": [
       "<div>\n",
       "<style scoped>\n",
       "    .dataframe tbody tr th:only-of-type {\n",
       "        vertical-align: middle;\n",
       "    }\n",
       "\n",
       "    .dataframe tbody tr th {\n",
       "        vertical-align: top;\n",
       "    }\n",
       "\n",
       "    .dataframe thead th {\n",
       "        text-align: right;\n",
       "    }\n",
       "</style>\n",
       "<table border=\"1\" class=\"dataframe\">\n",
       "  <thead>\n",
       "    <tr style=\"text-align: right;\">\n",
       "      <th></th>\n",
       "      <th>moneyline_home</th>\n",
       "      <th>moneyline_away</th>\n",
       "      <th>spread_odds_home</th>\n",
       "      <th>spread_odds_away</th>\n",
       "      <th>over_odds</th>\n",
       "      <th>under_odds</th>\n",
       "      <th>game_id</th>\n",
       "    </tr>\n",
       "  </thead>\n",
       "  <tbody>\n",
       "    <tr>\n",
       "      <th>0</th>\n",
       "      <td>0.105263</td>\n",
       "      <td>0.863946</td>\n",
       "      <td>0.487805</td>\n",
       "      <td>0.465116</td>\n",
       "      <td>0.492611</td>\n",
       "      <td>0.460829</td>\n",
       "      <td>1026833</td>\n",
       "    </tr>\n",
       "    <tr>\n",
       "      <th>1</th>\n",
       "      <td>0.403226</td>\n",
       "      <td>0.561404</td>\n",
       "      <td>0.476190</td>\n",
       "      <td>0.476190</td>\n",
       "      <td>0.465116</td>\n",
       "      <td>0.487805</td>\n",
       "      <td>1026598</td>\n",
       "    </tr>\n",
       "    <tr>\n",
       "      <th>2</th>\n",
       "      <td>0.083333</td>\n",
       "      <td>0.885714</td>\n",
       "      <td>0.469484</td>\n",
       "      <td>0.483092</td>\n",
       "      <td>0.465116</td>\n",
       "      <td>0.487805</td>\n",
       "      <td>1026528</td>\n",
       "    </tr>\n",
       "    <tr>\n",
       "      <th>3</th>\n",
       "      <td>0.206186</td>\n",
       "      <td>0.764706</td>\n",
       "      <td>0.483092</td>\n",
       "      <td>0.469484</td>\n",
       "      <td>0.485437</td>\n",
       "      <td>0.467290</td>\n",
       "      <td>1026763</td>\n",
       "    </tr>\n",
       "    <tr>\n",
       "      <th>4</th>\n",
       "      <td>0.163934</td>\n",
       "      <td>0.805825</td>\n",
       "      <td>0.469484</td>\n",
       "      <td>0.483092</td>\n",
       "      <td>0.444444</td>\n",
       "      <td>0.512195</td>\n",
       "      <td>1027523</td>\n",
       "    </tr>\n",
       "    <tr>\n",
       "      <th>...</th>\n",
       "      <td>...</td>\n",
       "      <td>...</td>\n",
       "      <td>...</td>\n",
       "      <td>...</td>\n",
       "      <td>...</td>\n",
       "      <td>...</td>\n",
       "      <td>...</td>\n",
       "    </tr>\n",
       "    <tr>\n",
       "      <th>3412</th>\n",
       "      <td>0.322581</td>\n",
       "      <td>0.642857</td>\n",
       "      <td>0.487805</td>\n",
       "      <td>0.465116</td>\n",
       "      <td>0.465116</td>\n",
       "      <td>0.487805</td>\n",
       "      <td>1347636</td>\n",
       "    </tr>\n",
       "    <tr>\n",
       "      <th>3413</th>\n",
       "      <td>0.632353</td>\n",
       "      <td>0.336700</td>\n",
       "      <td>0.480769</td>\n",
       "      <td>0.471698</td>\n",
       "      <td>0.465116</td>\n",
       "      <td>0.487805</td>\n",
       "      <td>1347606</td>\n",
       "    </tr>\n",
       "    <tr>\n",
       "      <th>3414</th>\n",
       "      <td>0.384615</td>\n",
       "      <td>0.583333</td>\n",
       "      <td>0.480769</td>\n",
       "      <td>0.471698</td>\n",
       "      <td>0.467290</td>\n",
       "      <td>0.485437</td>\n",
       "      <td>1412811</td>\n",
       "    </tr>\n",
       "    <tr>\n",
       "      <th>3415</th>\n",
       "      <td>0.448430</td>\n",
       "      <td>0.507389</td>\n",
       "      <td>0.497512</td>\n",
       "      <td>0.456621</td>\n",
       "      <td>0.460829</td>\n",
       "      <td>0.492611</td>\n",
       "      <td>1412496</td>\n",
       "    </tr>\n",
       "    <tr>\n",
       "      <th>3416</th>\n",
       "      <td>0.281690</td>\n",
       "      <td>0.682540</td>\n",
       "      <td>0.465116</td>\n",
       "      <td>0.487805</td>\n",
       "      <td>0.476190</td>\n",
       "      <td>0.476190</td>\n",
       "      <td>1285591</td>\n",
       "    </tr>\n",
       "  </tbody>\n",
       "</table>\n",
       "<p>3417 rows × 7 columns</p>\n",
       "</div>"
      ],
      "text/plain": [
       "      moneyline_home  moneyline_away  spread_odds_home  spread_odds_away  \\\n",
       "0           0.105263        0.863946          0.487805          0.465116   \n",
       "1           0.403226        0.561404          0.476190          0.476190   \n",
       "2           0.083333        0.885714          0.469484          0.483092   \n",
       "3           0.206186        0.764706          0.483092          0.469484   \n",
       "4           0.163934        0.805825          0.469484          0.483092   \n",
       "...              ...             ...               ...               ...   \n",
       "3412        0.322581        0.642857          0.487805          0.465116   \n",
       "3413        0.632353        0.336700          0.480769          0.471698   \n",
       "3414        0.384615        0.583333          0.480769          0.471698   \n",
       "3415        0.448430        0.507389          0.497512          0.456621   \n",
       "3416        0.281690        0.682540          0.465116          0.487805   \n",
       "\n",
       "      over_odds  under_odds  game_id  \n",
       "0      0.492611    0.460829  1026833  \n",
       "1      0.465116    0.487805  1026598  \n",
       "2      0.465116    0.487805  1026528  \n",
       "3      0.485437    0.467290  1026763  \n",
       "4      0.444444    0.512195  1027523  \n",
       "...         ...         ...      ...  \n",
       "3412   0.465116    0.487805  1347636  \n",
       "3413   0.465116    0.487805  1347606  \n",
       "3414   0.467290    0.485437  1412811  \n",
       "3415   0.460829    0.492611  1412496  \n",
       "3416   0.476190    0.476190  1285591  \n",
       "\n",
       "[3417 rows x 7 columns]"
      ]
     },
     "execution_count": 774,
     "metadata": {},
     "output_type": "execute_result"
    }
   ],
   "source": [
    "sample.create_probability_matrix()"
   ]
  },
  {
   "cell_type": "code",
   "execution_count": 579,
   "metadata": {},
   "outputs": [],
   "source": [
    "sampler = ModelAnalyzer(cls_proj, cls_mkt, cls_groundtruth, \"m2\")"
   ]
  },
  {
   "cell_type": "code",
   "execution_count": null,
   "metadata": {},
   "outputs": [],
   "source": []
  },
  {
   "cell_type": "code",
   "execution_count": null,
   "metadata": {},
   "outputs": [],
   "source": []
  },
  {
   "cell_type": "code",
   "execution_count": null,
   "metadata": {},
   "outputs": [],
   "source": []
  },
  {
   "cell_type": "code",
   "execution_count": null,
   "metadata": {},
   "outputs": [],
   "source": []
  },
  {
   "cell_type": "code",
   "execution_count": null,
   "metadata": {},
   "outputs": [],
   "source": []
  },
  {
   "cell_type": "code",
   "execution_count": null,
   "metadata": {},
   "outputs": [],
   "source": []
  }
 ],
 "metadata": {
  "interpreter": {
   "hash": "533f42cc1718b4e514b78a4bcd7158294e27b7c18264f40c4fe062bcb1773c09"
  },
  "kernelspec": {
   "display_name": "Python 3.7.1 64-bit ('base': conda)",
   "language": "python",
   "name": "python3"
  },
  "language_info": {
   "codemirror_mode": {
    "name": "ipython",
    "version": 3
   },
   "file_extension": ".py",
   "mimetype": "text/x-python",
   "name": "python",
   "nbconvert_exporter": "python",
   "pygments_lexer": "ipython3",
   "version": "3.7.1"
  },
  "orig_nbformat": 4
 },
 "nbformat": 4,
 "nbformat_minor": 2
}
